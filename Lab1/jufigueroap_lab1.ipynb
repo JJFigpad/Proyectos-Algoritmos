{
 "cells": [
  {
   "cell_type": "markdown",
   "metadata": {
    "id": "0aRGfD7vZK_Y"
   },
   "source": []
  },
  {
   "cell_type": "markdown",
   "metadata": {
    "id": "eQzBbvyKQymx"
   },
   "source": [
    "<div align=\"center\">\n",
    "<img style=\"display: block; margin: auto;\" alt=\"photo\" src=\"https://cdn.quantconnect.com/web/i/icon.png\">\n",
    "\n",
    "Quantconnect\n",
    "\n",
    "Introduction to Financial Python\n",
    "</div>\n",
    "\n",
    "# 01 Data Types and Data Structures\n",
    "\n",
    "# Introduction\n",
    "\n",
    "This tutorial provides a basic introduction to the Python programming language. If you are new to Python, you should run the code snippets while reading this tutorial. If you are an advanced Python user, please feel free to skip this chapter.\n",
    "\n",
    "# Basic Variable Types\n",
    "The basic types of variables in Python are: strings, integers, floating point numbers and booleans.\n",
    "\n",
    "Strings in python are identified as a contiguous set of characters represented in either single quotes (' ') or double quotes (\" \").\n"
   ]
  },
  {
   "cell_type": "code",
   "execution_count": null,
   "metadata": {
    "colab": {
     "base_uri": "https://localhost:8080/"
    },
    "id": "N5t-UrcfOqid",
    "outputId": "ecb2c930-70a2-43fe-f997-0fdf292c0b72"
   },
   "outputs": [
    {
     "name": "stdout",
     "output_type": "stream",
     "text": [
      "Este es el resultado de editar el notebook original.\n"
     ]
    }
   ],
   "source": [
    "my_string1 = 'Este es el resultado'\n",
    "my_string2 = \"de editar el notebook original.\"\n",
    "print(my_string1 + ' ' + my_string2) #Show in screen the output"
   ]
  },
  {
   "cell_type": "markdown",
   "metadata": {
    "id": "bXHnxZyHSd1M"
   },
   "source": [
    "An integer is a round number with no values after the decimal point."
   ]
  },
  {
   "cell_type": "code",
   "execution_count": null,
   "metadata": {
    "colab": {
     "base_uri": "https://localhost:8080/"
    },
    "id": "pNjuz3toOqif",
    "outputId": "7368815f-e620-42ab-abb9-936cccbc4fc0"
   },
   "outputs": [
    {
     "name": "stdout",
     "output_type": "stream",
     "text": [
      "2022\n",
      "<class 'int'>\n"
     ]
    }
   ],
   "source": [
    "my_int = 2022 #Year\n",
    "print(my_int)\n",
    "print(type(my_int))"
   ]
  },
  {
   "cell_type": "markdown",
   "metadata": {
    "id": "_1ZanWrYSnzF"
   },
   "source": [
    "The built-in function int() can convert a string into an integer."
   ]
  },
  {
   "cell_type": "code",
   "execution_count": null,
   "metadata": {
    "colab": {
     "base_uri": "https://localhost:8080/"
    },
    "id": "zPwGb20FOqif",
    "outputId": "e08d93f7-7824-4f08-ab21-8fe09e0a5fdf"
   },
   "outputs": [
    {
     "name": "stdout",
     "output_type": "stream",
     "text": [
      "<class 'str'>\n",
      "<class 'int'>\n",
      "25026\n"
     ]
    }
   ],
   "source": [
    "my_string = \"025026\" #Check if there is an error\n",
    "print(type(my_string))\n",
    "my_int = int(my_string)\n",
    "print(type(my_int)) #No error"
   ]
  },
  {
   "cell_type": "markdown",
   "metadata": {
    "id": "WqMDPDTHSrE9"
   },
   "source": [
    "A floating point number, or a float, is a real number in mathematics. In Python we need to include a value after a decimal point to define it as a float"
   ]
  },
  {
   "cell_type": "code",
   "execution_count": null,
   "metadata": {
    "colab": {
     "base_uri": "https://localhost:8080/"
    },
    "id": "otCzKKW9Oqig",
    "outputId": "c514cfe6-c710-45dd-fb7d-b11a169a518f"
   },
   "outputs": [
    {
     "name": "stdout",
     "output_type": "stream",
     "text": [
      "<class 'float'>\n",
      "1001.0\n",
      "<class 'float'>\n",
      "65.62583\n"
     ]
    }
   ],
   "source": [
    "my_string = \"1001\"\n",
    "my_float = float(my_string)\n",
    "print(type(my_float))\n",
    "print(my_float)\n",
    "flo=65.62583\n",
    "print(type(flo))\n",
    "print(flo)"
   ]
  },
  {
   "cell_type": "markdown",
   "metadata": {
    "id": "2iuyv8Q7StTJ"
   },
   "source": [
    "As you can see above, if we don't include a decimal value, the variable would be defined as an integer. The built-in function float() can convert a string or an integer into a float."
   ]
  },
  {
   "cell_type": "code",
   "execution_count": null,
   "metadata": {
    "colab": {
     "base_uri": "https://localhost:8080/"
    },
    "id": "wwLw5VthOqig",
    "outputId": "18dd41d6-1f39-46eb-e29a-e8a2eade8c14"
   },
   "outputs": [
    {
     "name": "stdout",
     "output_type": "stream",
     "text": [
      "True\n",
      "<class 'bool'>\n"
     ]
    }
   ],
   "source": [
    "mybool = True\n",
    "print(mybool)\n",
    "print(type(mybool))"
   ]
  },
  {
   "cell_type": "markdown",
   "metadata": {
    "id": "bnGMwH21Szr_"
   },
   "source": [
    "A boolean, or bool, is a binary variable. Its value can only be True or False. It is useful when we do some logic operations, which would be covered in our next chapter."
   ]
  },
  {
   "cell_type": "code",
   "execution_count": null,
   "metadata": {
    "colab": {
     "base_uri": "https://localhost:8080/"
    },
    "id": "DMa6pDl5Oqig",
    "outputId": "2008a6ad-1bef-45fd-c6fe-20c59a2629a9"
   },
   "outputs": [
    {
     "name": "stdout",
     "output_type": "stream",
     "text": [
      "Adicion  19\n",
      "Resta  -17\n",
      "Multiplicacion  736\n",
      "Division  6.542857142857143\n",
      "Division Entera 6\n",
      "Potenciacion 10000000000\n"
     ]
    }
   ],
   "source": [
    "print(\"Adicion \", 15+4)\n",
    "print(\"Resta \", 5-22)\n",
    "print(\"Multiplicacion \", 23*32)\n",
    "print(\"Division \", 229/35)\n",
    "print(\"Division Entera\", 229//35)\n",
    "print('Potenciacion', 10**10)"
   ]
  },
  {
   "cell_type": "markdown",
   "metadata": {
    "id": "1Xc9G9_sS2ju"
   },
   "source": [
    "# Basic Math Operations\n",
    "\n",
    "The basic math operators in python are demonstrated below:"
   ]
  },
  {
   "cell_type": "code",
   "execution_count": null,
   "metadata": {
    "colab": {
     "base_uri": "https://localhost:8080/"
    },
    "id": "KE9gUryAOqig",
    "outputId": "7025a468-6ab3-44c3-936e-ba6fbb26a380"
   },
   "outputs": [
    {
     "name": "stdout",
     "output_type": "stream",
     "text": [
      "0.2857142857142857\n",
      "0.2857142857142857\n"
     ]
    }
   ],
   "source": [
    "print(10/35)\n",
    "print(1.0/3.5)"
   ]
  },
  {
   "cell_type": "markdown",
   "metadata": {
    "id": "AN5Oa3DoS_Nf"
   },
   "source": [
    "# Data Collections\n",
    "\n",
    "## List\n",
    "A list is an ordered collection of values. A list is mutable, which means you can change a list's value without changing the list itself. Creating a list is simply putting different comma-separated values between square brackets."
   ]
  },
  {
   "cell_type": "code",
   "execution_count": null,
   "metadata": {
    "colab": {
     "base_uri": "https://localhost:8080/"
    },
    "id": "-tQdNqCvOqig",
    "outputId": "fbc482d2-4805-4ffa-d930-7c9f554952a2"
   },
   "outputs": [
    {
     "name": "stdout",
     "output_type": "stream",
     "text": [
      "['Juan', 'Jose', 'Figueroa']\n"
     ]
    }
   ],
   "source": [
    "my_list = [\"Juan\", \"Jose\", \"Figueroa\"]# List with my names\n",
    "print(my_list)"
   ]
  },
  {
   "cell_type": "markdown",
   "metadata": {
    "id": "1O0TsgZCTHrM"
   },
   "source": [
    "The values in a list are called \"elements\". We can access list elements by indexing. Python index starts from 0. So if you have a list of length n, the index of the first element will be 0, and that of the last element will be n − 1. By the way, the length of a list can be obtained by the built-in function len()."
   ]
  },
  {
   "cell_type": "code",
   "execution_count": null,
   "metadata": {
    "colab": {
     "base_uri": "https://localhost:8080/"
    },
    "id": "QhuVhRR5Oqih",
    "outputId": "2aec69d5-685a-48f0-f03a-3bec819d6f66"
   },
   "outputs": [
    {
     "name": "stdout",
     "output_type": "stream",
     "text": [
      "5\n",
      "String type\n",
      "False\n"
     ]
    }
   ],
   "source": [
    "my_list = [\"String type\", 'c', 1, 2.2, False]\n",
    "print(len(my_list))\n",
    "print(my_list[0])\n",
    "print(my_list[len(my_list) -1])"
   ]
  },
  {
   "cell_type": "markdown",
   "metadata": {
    "id": "jgSZy1VGTKSc"
   },
   "source": [
    "You can also change the elements in the list by accessing an index and assigning a new value."
   ]
  },
  {
   "cell_type": "code",
   "execution_count": null,
   "metadata": {
    "colab": {
     "base_uri": "https://localhost:8080/"
    },
    "id": "NQBNLjAvOqih",
    "outputId": "fa2be9b5-4e41-4afe-b1a8-0d023b0e8baf"
   },
   "outputs": [
    {
     "name": "stdout",
     "output_type": "stream",
     "text": [
      "['a', 'b', 'g', 'd', 'e']\n"
     ]
    }
   ],
   "source": [
    "my_list = ['a','b','c','d','e']\n",
    "my_list[2] = 'g' #Change the position 2 of the list with character 'g'\n",
    "print(my_list)"
   ]
  },
  {
   "cell_type": "markdown",
   "metadata": {
    "id": "EQPs5ojoTVrk"
   },
   "source": [
    "A list can also be sliced with a colon:"
   ]
  },
  {
   "cell_type": "code",
   "execution_count": null,
   "metadata": {
    "colab": {
     "base_uri": "https://localhost:8080/"
    },
    "id": "keNX2RbtOqii",
    "outputId": "77cb7430-eee4-41de-c77f-79680f020754"
   },
   "outputs": [
    {
     "name": "stdout",
     "output_type": "stream",
     "text": [
      "[4, 5, 6]\n"
     ]
    }
   ],
   "source": [
    "my_list = [1, 2, 3, 4, 5, 6, 7, 8, 9]\n",
    "print(my_list[3:6])"
   ]
  },
  {
   "cell_type": "markdown",
   "metadata": {
    "id": "AZqQd0K8TYul"
   },
   "source": [
    "The slice starts from the first element indicated, but excludes the last element indicated. Here we select all elements starting from index 1, which refers to the second element:"
   ]
  },
  {
   "cell_type": "code",
   "execution_count": null,
   "metadata": {
    "colab": {
     "base_uri": "https://localhost:8080/"
    },
    "id": "0-76sLfkOqii",
    "outputId": "39bf0b7e-acb3-43c6-8986-17fce8fe0380"
   },
   "outputs": [
    {
     "name": "stdout",
     "output_type": "stream",
     "text": [
      "[1, 2, 3, 4, 5, 6, 7]\n"
     ]
    }
   ],
   "source": [
    "print(my_list[:-2])"
   ]
  },
  {
   "cell_type": "markdown",
   "metadata": {
    "id": "XBqvhUdZVKWs"
   },
   "source": [
    "And all elements up to but excluding index 3:"
   ]
  },
  {
   "cell_type": "code",
   "execution_count": null,
   "metadata": {
    "colab": {
     "base_uri": "https://localhost:8080/"
    },
    "id": "5NWr75L9Oqii",
    "outputId": "d597e7f2-ac95-4dc3-ee74-58a7a5aa8058"
   },
   "outputs": [
    {
     "name": "stdout",
     "output_type": "stream",
     "text": [
      "[8, 9]\n"
     ]
    }
   ],
   "source": [
    "print(my_list[7:])"
   ]
  },
  {
   "cell_type": "markdown",
   "metadata": {
    "id": "eAFmM6bkTZz9"
   },
   "source": [
    "If you wish to add or remove an element from a list, you can use the append() and remove() methods for lists as follows:"
   ]
  },
  {
   "cell_type": "code",
   "execution_count": null,
   "metadata": {
    "colab": {
     "base_uri": "https://localhost:8080/"
    },
    "id": "pHmgTPElTo19",
    "outputId": "a57b61fe-2324-48e2-ce37-e1337df45ac6"
   },
   "outputs": [
    {
     "name": "stdout",
     "output_type": "stream",
     "text": [
      "[0.1, 0.2, 0.3]\n"
     ]
    }
   ],
   "source": [
    "my_list = [0.1, 0.2]\n",
    "my_list.append(0.3)\n",
    "print(my_list)"
   ]
  },
  {
   "cell_type": "code",
   "execution_count": null,
   "metadata": {
    "colab": {
     "base_uri": "https://localhost:8080/"
    },
    "id": "4C4U1Yf0Tr8l",
    "outputId": "a81ea816-90da-46c6-daef-4b362f939e9c"
   },
   "outputs": [
    {
     "name": "stdout",
     "output_type": "stream",
     "text": [
      "[0.1, 0.3]\n"
     ]
    }
   ],
   "source": [
    "my_list.remove(0.2)\n",
    "print(my_list)"
   ]
  },
  {
   "cell_type": "markdown",
   "metadata": {
    "id": "11W1gG-cVmOU"
   },
   "source": [
    "When there are repeated instances of \"Hello\", the first one is removed.\n",
    "\n",
    "## Tuple\n",
    "A tuple is a data structure type similar to a list. The difference is that a tuple is immutable, which means you can't change the elements in it once it's defined. We create a tuple by putting comma-separated values between parentheses."
   ]
  },
  {
   "cell_type": "code",
   "execution_count": null,
   "metadata": {
    "collapsed": true,
    "id": "vPmn6BAaOqii"
   },
   "outputs": [],
   "source": [
    "my_tuple = (\"Tuple\",\"of\",\"4\", \"elemetns\")"
   ]
  },
  {
   "cell_type": "markdown",
   "metadata": {
    "id": "zMIme4dDV0Wz"
   },
   "source": [
    "Just like a list, a tuple can be sliced by using index."
   ]
  },
  {
   "cell_type": "code",
   "execution_count": null,
   "metadata": {
    "colab": {
     "base_uri": "https://localhost:8080/"
    },
    "id": "8P-ddO0sOqii",
    "outputId": "e564c9b3-9df5-42cd-e477-b2c3b5f31367"
   },
   "outputs": [
    {
     "name": "stdout",
     "output_type": "stream",
     "text": [
      "('of', '4', 'elemetns')\n"
     ]
    }
   ],
   "source": [
    "print(my_tuple[1:])"
   ]
  },
  {
   "cell_type": "markdown",
   "metadata": {
    "id": "l2JqbusAV1Y2"
   },
   "source": [
    "## Set\n",
    "A set is an **unordered**  collection with **no duplicate** elements. The built-in function **set()** can be used to create sets."
   ]
  },
  {
   "cell_type": "code",
   "execution_count": null,
   "metadata": {
    "colab": {
     "base_uri": "https://localhost:8080/"
    },
    "id": "Plau8r-UOqij",
    "outputId": "48441b36-ab8e-4c12-f3a9-29a63eeaff6e"
   },
   "outputs": [
    {
     "name": "stdout",
     "output_type": "stream",
     "text": [
      "{'i', 'F', 'I', 'C', 'A', 'B'}\n"
     ]
    }
   ],
   "source": [
    "list_example = ['A','F','I','C','A','B','F','I','i']\n",
    "set_example = set(list_example)\n",
    "print(set_example)"
   ]
  },
  {
   "cell_type": "markdown",
   "metadata": {
    "id": "Jyb4GGIoWIHk"
   },
   "source": [
    "Set is an easy way to remove duplicate elements from a list.\n",
    "\n",
    "##Dictionary\n",
    "A dictionary is one of the most important data structures in Python. Unlike sequences which are indexed by integers, dictionaries are indexed by keys which can be either strings or floats.\n",
    "\n",
    "A dictionary is an **unordered** collection of key : value pairs, with the requirement that the keys are unique. We create a dictionary by placing a comma-separated list of key : value pairs within the braces."
   ]
  },
  {
   "cell_type": "code",
   "execution_count": null,
   "metadata": {
    "collapsed": true,
    "id": "36mTe5BaOqij"
   },
   "outputs": [],
   "source": [
    "my_dic = {\"Sun\":\"Star\", \"FB\":\"FaceBook\", \"Earth\":\"Planet\", \"Fifa\":\"VideoGame\"}"
   ]
  },
  {
   "cell_type": "code",
   "execution_count": null,
   "metadata": {
    "colab": {
     "base_uri": "https://localhost:8080/"
    },
    "id": "KUfdVf43Oqij",
    "outputId": "4e327745-42f2-4dd0-ef1e-e78d1e7e6d39"
   },
   "outputs": [
    {
     "name": "stdout",
     "output_type": "stream",
     "text": [
      "Planet\n",
      "Star\n"
     ]
    }
   ],
   "source": [
    "print(my_dic[\"Earth\"])\n",
    "print(my_dic[\"Sun\"])"
   ]
  },
  {
   "cell_type": "markdown",
   "metadata": {
    "id": "gSicoNqDWP4c"
   },
   "source": [
    "After defining a dictionary, we can access any value by indicating its key in brackets."
   ]
  },
  {
   "cell_type": "code",
   "execution_count": null,
   "metadata": {
    "colab": {
     "base_uri": "https://localhost:8080/"
    },
    "id": "IrTZdq9FOqij",
    "outputId": "d33f2442-0177-44d8-d05a-dce63ba1f0fb"
   },
   "outputs": [
    {
     "name": "stdout",
     "output_type": "stream",
     "text": [
      "Porco Rosso\n"
     ]
    }
   ],
   "source": [
    "my_dic[\"Movie\"] = \"Porco Rosso\"\n",
    "print(my_dic[\"Movie\"])"
   ]
  },
  {
   "cell_type": "markdown",
   "metadata": {
    "id": "M9sDsTEMWQvc"
   },
   "source": [
    "We can also change the value associated with a specified key:"
   ]
  },
  {
   "cell_type": "code",
   "execution_count": null,
   "metadata": {
    "colab": {
     "base_uri": "https://localhost:8080/"
    },
    "id": "lupRHf1_Oqij",
    "outputId": "097ce658-c343-41c8-d057-9ca2b91e16a2"
   },
   "outputs": [
    {
     "name": "stdout",
     "output_type": "stream",
     "text": [
      "dict_keys(['Sun', 'FB', 'Earth', 'Fifa', 'Movie'])\n"
     ]
    }
   ],
   "source": [
    "print(my_dic.keys())"
   ]
  },
  {
   "cell_type": "markdown",
   "metadata": {
    "id": "VPuDinlwWS9D"
   },
   "source": [
    "The built-in method of the dictionary object dict.keys() returns a list of all the keys used in the dictionary."
   ]
  },
  {
   "cell_type": "markdown",
   "metadata": {
    "id": "kSGzgNb2Womz"
   },
   "source": [
    "# Common String Operations\n",
    "A string is an immutable sequence of characters. It can be sliced by index just like a tuple:"
   ]
  },
  {
   "cell_type": "code",
   "execution_count": null,
   "metadata": {
    "colab": {
     "base_uri": "https://localhost:8080/"
    },
    "id": "xPojDnm9Oqik",
    "outputId": "45bd7d5f-b40c-48b9-f6a0-491d92938df7"
   },
   "outputs": [
    {
     "name": "stdout",
     "output_type": "stream",
     "text": [
      "This notebook was changed by JJFP for the course of \n"
     ]
    }
   ],
   "source": [
    "my_str = 'This notebook was changed by JJFP for the course of algorithms.'\n",
    "print(my_str[:-11])"
   ]
  },
  {
   "cell_type": "markdown",
   "metadata": {
    "id": "wuJYy7tvWtM7"
   },
   "source": [
    "There are many methods associated with strings. We can use string.count() to count the occurrences of a character in a string, use string.find() to return the index of a specific character, and use string.replace() to replace characters"
   ]
  },
  {
   "cell_type": "code",
   "execution_count": null,
   "metadata": {
    "colab": {
     "base_uri": "https://localhost:8080/"
    },
    "id": "u9deZq1SOqik",
    "outputId": "9e805f51-cca6-402f-b0ed-c29d6fd3c899"
   },
   "outputs": [
    {
     "name": "stdout",
     "output_type": "stream",
     "text": [
      "14\n",
      "9\n",
      "Tlabaja, plasma las palablas, hazlas balas\n"
     ]
    }
   ],
   "source": [
    "print(\"Se creen jefes de este Edén, que les den, herejes\".count('e')) #Count number of 'e' on the sentence.\n",
    "print(\"Yo no compongo con porros\".find('p')) #First position where 'p' is located on the sentence.\n",
    "print('Trabaja, plasma las palabras, hazlas balas'.replace('r','l')) #Replace 'r' with 'l'."
   ]
  },
  {
   "cell_type": "markdown",
   "metadata": {
    "id": "sJPn3rkvWwHN"
   },
   "source": [
    "The most commonly used method for strings is string.split(). This method will split the string by the indicated character and return a list:"
   ]
  },
  {
   "cell_type": "code",
   "execution_count": null,
   "metadata": {
    "colab": {
     "base_uri": "https://localhost:8080/"
    },
    "id": "hbIaFLFHOqik",
    "outputId": "c677d67e-000c-4454-a3ed-216728ee845e"
   },
   "outputs": [
    {
     "name": "stdout",
     "output_type": "stream",
     "text": [
      "Sun Aug\n",
      "01:35:36 2022\n"
     ]
    }
   ],
   "source": [
    "import time\n",
    "Time = time.ctime(time.time()) #String of the actual computer time.\n",
    "#It uses two functions of the time library:\n",
    "#time: actual computer time in integer form.\n",
    "#ctime: transform the integer form of the time into a clear string.\n",
    "splited_list = Time.split(' ') #Separate the string by spaces (' ').\n",
    "day = splited_list[0] #First position of list.\n",
    "month = splited_list[1] #Second position of list.\n",
    "print(day, month)\n",
    "hour = Time[11:] #Precise hour\n",
    "print(hour)"
   ]
  },
  {
   "cell_type": "markdown",
   "metadata": {
    "id": "9cJQGk96WyVc"
   },
   "source": [
    "We can replace parts of a string by our variable. This is called string formatting."
   ]
  },
  {
   "cell_type": "code",
   "execution_count": null,
   "metadata": {
    "colab": {
     "base_uri": "https://localhost:8080/"
    },
    "id": "-E_rIvv6Oqik",
    "outputId": "deae3e42-94fb-47d7-bfa9-0eaf54683abf"
   },
   "outputs": [
    {
     "name": "stdout",
     "output_type": "stream",
     "text": [
      "Edificio: 406, Salon:104\n"
     ]
    }
   ],
   "source": [
    "our_classroom = 'Edificio: {}, Salon:{}'.format(406,104) #Fill the gaps ('{}') with the corresponding .format() info\n",
    "print(our_classroom)"
   ]
  },
  {
   "cell_type": "markdown",
   "metadata": {
    "id": "1_NbVldpWzAs"
   },
   "source": [
    "Another way to format a string is to use the % symbol."
   ]
  },
  {
   "cell_type": "code",
   "execution_count": null,
   "metadata": {
    "colab": {
     "base_uri": "https://localhost:8080/"
    },
    "id": "4rZ4rkD2Oqik",
    "outputId": "983ca1dd-10c3-47b6-d750-78865a9c4ac7"
   },
   "outputs": [
    {
     "name": "stdout",
     "output_type": "stream",
     "text": [
      "the e number is 2.718282\n",
      "Este es el formato de C\n"
     ]
    }
   ],
   "source": [
    "from math import e #Import a library or a specific command of a library\n",
    "print('the e number is %f'%e)\n",
    "print('%s de %s'%(\"Este es el formato\",\"C\"))"
   ]
  },
  {
   "cell_type": "markdown",
   "metadata": {
    "id": "v_5cocrDW3MN"
   },
   "source": [
    "# Summary\n",
    "\n",
    "We have seen the basic data types and data structures in Python. It's important to keep practicing to become familiar with these data structures. In the next tutorial, we will cover for and while loops and logical operations in Python."
   ]
  },
  {
   "cell_type": "markdown",
   "metadata": {
    "id": "QL6dNxwCXNEt"
   },
   "source": [
    "<div align=\"center\">\n",
    "<img style=\"display: block; margin: auto;\" alt=\"photo\" src=\"https://cdn.quantconnect.com/web/i/icon.png\">\n",
    "\n",
    "Quantconnect\n",
    "\n",
    "Introduction to Financial Python\n",
    "</div>\n",
    "\n",
    "# 02 Logical Operations and Loops\n",
    "\n",
    "# Introduction\n",
    "We discussed the basic data types and data structures in Python in the last tutorial. This chapter covers logical operations and loops in Python, which are very common in programming.\n",
    "\n",
    "# Logical Operations\n",
    "Like most programming languages, Python has comparison operators:"
   ]
  },
  {
   "cell_type": "code",
   "execution_count": null,
   "metadata": {
    "colab": {
     "base_uri": "https://localhost:8080/"
    },
    "id": "70Guys_rOv7a",
    "outputId": "1f4cce48-7ca3-4849-a887-4ec5e5c041b1"
   },
   "outputs": [
    {
     "name": "stdout",
     "output_type": "stream",
     "text": [
      "True\n",
      "False\n",
      "False\n",
      "False\n",
      "True\n"
     ]
    }
   ],
   "source": [
    "print('^' == '^')\n",
    "print(\"sys\" == \"ysy\")\n",
    "print(345 != 345.0)\n",
    "print(12 >= 13)\n",
    "print(12.0 >= 11.9)"
   ]
  },
  {
   "cell_type": "markdown",
   "metadata": {
    "id": "8aFHYDj-YTXt"
   },
   "source": [
    "Each statement above has a boolean value, which must be either True or False, but not both.\n",
    "\n",
    "We can combine simple statements P and Q to form complex statements using logical operators:\n",
    "\n",
    "- The statement \"P and Q\" is true if both P and Q are true, otherwise it is false.\n",
    "- The statement \"P or Q\" is false if both P and Q are false, otherwise it is true.\n",
    "- The statement \"not P\" is true if P is false, and vice versa."
   ]
  },
  {
   "cell_type": "code",
   "execution_count": null,
   "metadata": {
    "colab": {
     "base_uri": "https://localhost:8080/"
    },
    "id": "O5YEEcUbOv7d",
    "outputId": "3cd6c96c-f799-4ab5-b679-d607694de157"
   },
   "outputs": [
    {
     "name": "stdout",
     "output_type": "stream",
     "text": [
      "False\n",
      "True\n",
      "True\n",
      "False\n"
     ]
    }
   ],
   "source": [
    "print(2**2 > 2**3 and 90 > 3**4)\n",
    "print(2**4 == 16 or 22 < 23) \n",
    "print('a' != ord('a') and 'abc' < 'acb')\n",
    "print(2 <= 1 and 3 == 2)"
   ]
  },
  {
   "cell_type": "markdown",
   "metadata": {
    "id": "Dy7yzoSXYXmL"
   },
   "source": [
    "When dealing with a very complex logical statement that involves in several statements, we can use brackets to separate and combine them."
   ]
  },
  {
   "cell_type": "code",
   "execution_count": null,
   "metadata": {
    "colab": {
     "base_uri": "https://localhost:8080/"
    },
    "id": "QZ-W2xJZOv7d",
    "outputId": "828b98cb-8e43-4120-d8d7-744bdd4f16a3"
   },
   "outputs": [
    {
     "name": "stdout",
     "output_type": "stream",
     "text": [
      "True\n",
      "False\n"
     ]
    }
   ],
   "source": [
    "print(not(False and True) or (True and not False))\n",
    "print((\"Key\" > \"Layton\" or \"Layton\" < \"Phoenix\") and (325 == 5**4))"
   ]
  },
  {
   "cell_type": "markdown",
   "metadata": {
    "id": "s95xoRYMYaPD"
   },
   "source": [
    "Comparing the above two statements, we can see that it's wise to use brackets when we make a complex logical statement.\n",
    "\n",
    "# If Statement\n",
    "An if statement executes a segment of code only if its condition is true. A standard if statement consists of 3 segments: if, elif and else."
   ]
  },
  {
   "cell_type": "markdown",
   "metadata": {
    "id": "aRzMMitAaBOL"
   },
   "source": [
    "```python\n",
    "if statement1:\n",
    "    # if the statement1 is true, execute the code here.\n",
    "    # code.....\n",
    "    # code.....\n",
    "elif statement2:\n",
    "    # if the statement 1 is false, skip the codes above to this part.\n",
    "    # code......\n",
    "    # code......\n",
    "else:\n",
    "    # if none of the above statements is True, skip to this part\n",
    "    # code......\n",
    "```"
   ]
  },
  {
   "cell_type": "markdown",
   "metadata": {
    "id": "l59R2AS8aH2K"
   },
   "source": [
    "An if statement doesn't necessarily has elif and else part. If it's not specified, the indented block of code will be executed when the condition is true, otherwise the whole if statement will be skipped."
   ]
  },
  {
   "cell_type": "code",
   "execution_count": null,
   "metadata": {
    "colab": {
     "base_uri": "https://localhost:8080/"
    },
    "id": "FZ5GoTXfOv7e",
    "outputId": "d7b61dc5-b1d4-4d90-cdbb-acb5b813a256"
   },
   "outputs": [
    {
     "name": "stdout",
     "output_type": "stream",
     "text": [
      "l is an empty list\n"
     ]
    }
   ],
   "source": [
    "l = []\n",
    "if len(l) == 0:\n",
    "    print('l is an empty list')"
   ]
  },
  {
   "cell_type": "markdown",
   "metadata": {
    "id": "nPNW-l5eaJn8"
   },
   "source": [
    "As we mentioned above, we can write some complex statements here:"
   ]
  },
  {
   "cell_type": "code",
   "execution_count": null,
   "metadata": {
    "colab": {
     "base_uri": "https://localhost:8080/"
    },
    "id": "gh-U6nMzOv7e",
    "outputId": "be1cd6bf-bc68-4493-aeab-d3bee1ee1d92"
   },
   "outputs": [
    {
     "name": "stdout",
     "output_type": "stream",
     "text": [
      "p is false\n"
     ]
    }
   ],
   "source": [
    "p = False\n",
    "q = True\n",
    "if p and q:\n",
    "    print('p and q is true')\n",
    "elif p and not q:\n",
    "    print('q is false')\n",
    "elif q and not p:\n",
    "    print('p is false')\n",
    "else:\n",
    "    print('None of p and q is true')"
   ]
  },
  {
   "cell_type": "markdown",
   "metadata": {
    "id": "tgRDwiAsaMOL"
   },
   "source": [
    "# Loop Structure\n",
    "Loops are an essential part of programming. The \"for\" and \"while\" loops run a block of code repeatedly.\n",
    "\n",
    "## While Loop\n",
    "A \"while\" loop will run repeatedly until a certain condition has been met."
   ]
  },
  {
   "cell_type": "code",
   "execution_count": null,
   "metadata": {
    "colab": {
     "base_uri": "https://localhost:8080/"
    },
    "id": "uQLau8d5Ov7f",
    "outputId": "c9060774-f972-47a7-ce77-b0be281f0113"
   },
   "outputs": [
    {
     "name": "stdout",
     "output_type": "stream",
     "text": [
      "10\n",
      "9\n",
      "8\n",
      "7\n",
      "6\n",
      "5\n",
      "4\n",
      "3\n",
      "2\n"
     ]
    }
   ],
   "source": [
    "i = 10\n",
    "while i > 1:\n",
    "    print(i)\n",
    "    i -= 1 "
   ]
  },
  {
   "cell_type": "markdown",
   "metadata": {
    "id": "ydLddFAPaTOE"
   },
   "source": [
    "When making a while loop, we need to ensure that something changes from iteration to iteration so that the while loop will terminate, otherwise, it will run forever. Here we used i += 1 (short for i = i + 1) to make i larger after each iteration. This is the most commonly used method to control a while loop.\n",
    "\n",
    "## For Loop\n",
    "A \"for\" loop will iterate over a sequence of value and terminate when the sequence has ended."
   ]
  },
  {
   "cell_type": "code",
   "execution_count": null,
   "metadata": {
    "colab": {
     "base_uri": "https://localhost:8080/"
    },
    "id": "kt8Ie8u1Ov7f",
    "outputId": "428b251c-1be7-4df9-986f-0c98f12dcfb3"
   },
   "outputs": [
    {
     "name": "stdout",
     "output_type": "stream",
     "text": [
      "7\n",
      "8\n",
      "6\n",
      "9\n",
      "2\n"
     ]
    }
   ],
   "source": [
    "from random import randrange as rd #Para generar numeros de forma aleatoria\n",
    "for i in [rd(1,10),rd(1,10),rd(1,10),rd(1,10),rd(1,10)]: #rd genera un numero aleatorio dentro de un rango dado\n",
    "    print(i)"
   ]
  },
  {
   "cell_type": "markdown",
   "metadata": {
    "id": "yWStqpreaX-T"
   },
   "source": [
    "We can also add if statements in a for loop. Here is a real example from our pairs trading algorithm:"
   ]
  },
  {
   "cell_type": "code",
   "execution_count": null,
   "metadata": {
    "colab": {
     "base_uri": "https://localhost:8080/"
    },
    "id": "kElmffvFOv7f",
    "outputId": "7bc0937f-06c2-43a1-9c55-185ee53e3a1d"
   },
   "outputs": [
    {
     "name": "stdout",
     "output_type": "stream",
     "text": [
      "[1, 1, 0, 0, 1, 1, 1, 1, 1, 1, 0]\n",
      "The number of '1' in n is: 8\n"
     ]
    }
   ],
   "source": [
    "n = 2022\n",
    "l = []\n",
    "#We get base 2 form of n\n",
    "while True:\n",
    "  l.insert(-1,n%2)\n",
    "  if n == 0 or n == 1:\n",
    "    break\n",
    "  n=n//2\n",
    "c = 0\n",
    "#Count the number of '1' on the expansion\n",
    "for i in l:\n",
    "    if i == 1:\n",
    "      c+=1\n",
    "print(\"The number of '1' in n is:\", c)"
   ]
  },
  {
   "cell_type": "markdown",
   "metadata": {
    "id": "wb2hry9dahE0"
   },
   "source": [
    "Here we iterated all the elements in the list 'stocks'. Later in this chapter, we will introduce a smarter way to do this, which is just a one-line code.\n",
    "\n",
    "## Break and continue\n",
    "These are two commonly used commands in a for loop. If \"break\" is triggered while a loop is executing, the loop will terminate immediately:"
   ]
  },
  {
   "cell_type": "code",
   "execution_count": null,
   "metadata": {
    "colab": {
     "base_uri": "https://localhost:8080/"
    },
    "id": "yF5wMVItOv7g",
    "outputId": "38601b8e-1fd4-4eb2-fdc2-a77206f935c7"
   },
   "outputs": [
    {
     "name": "stdout",
     "output_type": "stream",
     "text": [
      "aaaaaaaaaaaaaaaaaaaaabccccccccccc\n",
      "b founded in position 22\n"
     ]
    }
   ],
   "source": [
    "a = \"a\"*21 + \"b\" + \"c\"*11\n",
    "print(a)\n",
    "c = 0\n",
    "for i in a:\n",
    "  c+=1\n",
    "  if i == 'b':\n",
    "    print(\"b founded in position\",c)\n",
    "    break"
   ]
  },
  {
   "cell_type": "markdown",
   "metadata": {
    "id": "R0toxyp3ao0T"
   },
   "source": [
    "The \"continue\" command tells the loop to end this iteration and skip to the next iteration:"
   ]
  },
  {
   "cell_type": "code",
   "execution_count": null,
   "metadata": {
    "colab": {
     "base_uri": "https://localhost:8080/"
    },
    "id": "Stg-CH6IOv7g",
    "outputId": "b76198b2-4a1c-43ac-b55f-4bd60633c8d3"
   },
   "outputs": [
    {
     "name": "stdout",
     "output_type": "stream",
     "text": [
      "A\n",
      "b\n",
      "d\n",
      "e\n",
      "f\n",
      "g\n"
     ]
    }
   ],
   "source": [
    "stocks = ['A','b','c','d','e','f', 'g', 'h']\n",
    "for i in stocks:\n",
    "    if i == 'c' or i == 'h':\n",
    "        continue\n",
    "    print(i)"
   ]
  },
  {
   "cell_type": "markdown",
   "metadata": {
    "id": "4NusvdhBaxpZ"
   },
   "source": [
    "# List Comprehension\n",
    "List comprehension is a Pythonic way to create lists. Common applications are to make new lists where each element is the result of some operations applied to each member of another sequence. For example, if we want to create a new list for loop:"
   ]
  },
  {
   "cell_type": "code",
   "execution_count": null,
   "metadata": {
    "colab": {
     "base_uri": "https://localhost:8080/"
    },
    "id": "bdxxeOABOv7h",
    "outputId": "f403f6e7-1c87-4c6f-884b-c85a2e962934"
   },
   "outputs": [
    {
     "name": "stdout",
     "output_type": "stream",
     "text": [
      "[11, 29, 55, 89, 131]\n"
     ]
    }
   ],
   "source": [
    "results = []\n",
    "for i in [2,4,6,8,10]:\n",
    "  results.append(i+(i+1)**2)\n",
    "print(results)"
   ]
  },
  {
   "cell_type": "markdown",
   "metadata": {
    "id": "--KliJBOa1CC"
   },
   "source": [
    "Using list comprehension:"
   ]
  },
  {
   "cell_type": "code",
   "execution_count": null,
   "metadata": {
    "colab": {
     "base_uri": "https://localhost:8080/"
    },
    "id": "440-yjG8Ov7h",
    "outputId": "40d09b61-eb0a-417b-d844-14e6ee85aa0c"
   },
   "outputs": [
    {
     "name": "stdout",
     "output_type": "stream",
     "text": [
      "[11, 29, 55, 89, 131]\n"
     ]
    }
   ],
   "source": [
    "list = [2,4,6,8,10]\n",
    "results = [x+(x+1)**2 for x in list]\n",
    "print(results)"
   ]
  },
  {
   "cell_type": "markdown",
   "metadata": {
    "id": "uMuCfR3ya3zT"
   },
   "source": [
    "Recall the example above where we used a for loop to select l. Here we use list comprehension:"
   ]
  },
  {
   "cell_type": "code",
   "execution_count": null,
   "metadata": {
    "colab": {
     "base_uri": "https://localhost:8080/"
    },
    "id": "ZGtCtog2Ov7h",
    "outputId": "cbe045d1-f71f-44fc-cfa2-06f8aa21c754"
   },
   "outputs": [
    {
     "name": "stdout",
     "output_type": "stream",
     "text": [
      "{'y', 't', 'i', 'c', 'r', 'z', 'f', 'e', 'g', 'd', 'o', 'h', 'q', 'E', 's', 'M', 'v', 'b', 'u', 'm', 'p', 'í'}\n"
     ]
    }
   ],
   "source": [
    "stocks = \"En algun lugar de la Mancha, cuyo nombre no puedo acordarme, no ha mucho tiempo que vivía un hidalgo de los de lanza en astillero, adarga antigua, rocín flaco y galgo corredor.\"\n",
    "selected = ['n', 'a', 'l', ' ', '.', ',']\n",
    "new_set = set(x for x in stocks if x not in selected)\n",
    "print(new_set)"
   ]
  },
  {
   "cell_type": "markdown",
   "metadata": {
    "id": "EPeUv6Lia5oD"
   },
   "source": [
    "A list comprehension consists of square brackets containing an expression followed by a \"for\" clause, and possibly \"for\" or \"if\" clauses. For example:"
   ]
  },
  {
   "cell_type": "code",
   "execution_count": null,
   "metadata": {
    "colab": {
     "base_uri": "https://localhost:8080/"
    },
    "id": "O1AMB5d7Ov7i",
    "outputId": "f8d81b68-469d-4165-ed0c-9da3c8fdf9f8"
   },
   "outputs": [
    {
     "name": "stdout",
     "output_type": "stream",
     "text": [
      "[(2, 9), (4, 7), (4, 8), (4, 9), (6, 5), (6, 6), (6, 7), (6, 8), (6, 9), (8, 3), (8, 4), (8, 5), (8, 6), (8, 7), (8, 8), (8, 9), (10, 1), (10, 2), (10, 3), (10, 4), (10, 5), (10, 6), (10, 7), (10, 8), (10, 9)]\n"
     ]
    }
   ],
   "source": [
    "l1 = [2,4,6,8,10]\n",
    "l2 = [1,2,3,4,5,6,7,8,9,0]\n",
    "print([(x, y) for x in l1 for y in l2 if (x+y not in l1) and (x+y not in l2)])"
   ]
  },
  {
   "cell_type": "markdown",
   "metadata": {
    "id": "jJpvq-o4a8P7"
   },
   "source": [
    "List comprehension is an elegant way to organize one or more for loops when creating a list.\n",
    "\n",
    "# Summary\n",
    "This chapter has introduced logical operations, loops, and list comprehension. In the next chapter, we will introduce functions and object-oriented programming, which will enable us to make our codes clean and versatile."
   ]
  },
  {
   "cell_type": "markdown",
   "metadata": {
    "id": "Tef_X2wJbdhn"
   },
   "source": [
    "<div align=\"center\">\n",
    "<img style=\"display: block; margin: auto;\" alt=\"photo\" src=\"https://cdn.quantconnect.com/web/i/icon.png\">\n",
    "\n",
    "Quantconnect\n",
    "\n",
    "Introduction to Financial Python\n",
    "</div>\n",
    "\n",
    "# 03 Functions and Objective-Oriented Programming\n",
    "\n",
    "# Introduction\n",
    "\n",
    "In the last tutorial we introduced logical operations, loops and list comprehension. We will introduce functions and object-oriented programming in this chapter, which will enable us to build complex algorithms in more flexible ways.\n",
    "\n",
    "# Functions\n",
    "A function is a reusable block of code. We can use a function to output a value, or do anything else we want. We can easily define our own function by using the keyword \"def\"."
   ]
  },
  {
   "cell_type": "code",
   "execution_count": null,
   "metadata": {
    "colab": {
     "base_uri": "https://localhost:8080/"
    },
    "id": "eE_NkTiSO2PO",
    "outputId": "8a6341bf-325f-4de0-b173-40d0650d5bf7"
   },
   "outputs": [
    {
     "name": "stdout",
     "output_type": "stream",
     "text": [
      "3125\n",
      "225\n"
     ]
    }
   ],
   "source": [
    "def operation(x,y,z):\n",
    "    return (x+y)**z\n",
    "print(operation(2,3,5))\n",
    "print(operation(5,10,2))"
   ]
  },
  {
   "cell_type": "markdown",
   "metadata": {
    "id": "4oRU_dVJbsdD"
   },
   "source": [
    "The keyword \"def\" is followed by the function name and the parenthesized list of formal parameters. The statements that form the body of the function start at the next line, and must be indented. The product() function above has \"x\" and \"y\" as its parameters. A function doesn't necessarily have parameters:"
   ]
  },
  {
   "cell_type": "code",
   "execution_count": null,
   "metadata": {
    "colab": {
     "base_uri": "https://localhost:8080/"
    },
    "id": "JhdWVLbUO2PQ",
    "outputId": "024879bc-556e-433f-a0be-0e879f2b2c1f"
   },
   "outputs": [
    {
     "name": "stdout",
     "output_type": "stream",
     "text": [
      "Starting the III tutorial.\n"
     ]
    }
   ],
   "source": [
    "def f():\n",
    "    print('Starting the III tutorial.')\n",
    "f()"
   ]
  },
  {
   "cell_type": "markdown",
   "metadata": {
    "id": "lHwqVpWVb1Jr"
   },
   "source": [
    "# Built-in Function\n",
    "**range()** is a function that creates a list containing an arithmetic sequence. It's often used in for loops. The arguments must be integers. If the \"step\" argument is omitted, it defaults to 1."
   ]
  },
  {
   "cell_type": "code",
   "execution_count": null,
   "metadata": {
    "colab": {
     "base_uri": "https://localhost:8080/"
    },
    "id": "VVOTELcIO2PQ",
    "outputId": "a80f3402-4d50-4c54-913d-b4720b78806b"
   },
   "outputs": [
    {
     "name": "stdout",
     "output_type": "stream",
     "text": [
      "range(0, 5)\n",
      "range(22, 52)\n",
      "range(100, 50, 100000)\n"
     ]
    }
   ],
   "source": [
    "print(range(5))\n",
    "print(range(22,52))\n",
    "print(range(100,50,100000))"
   ]
  },
  {
   "cell_type": "markdown",
   "metadata": {
    "id": "PD0cSgiwcQ4L"
   },
   "source": [
    "**len()** is another function used together with range() to create a for loop. This function returns the length of an object. The argument must be a sequence or a collection."
   ]
  },
  {
   "cell_type": "code",
   "execution_count": null,
   "metadata": {
    "colab": {
     "base_uri": "https://localhost:8080/"
    },
    "id": "Hg18c7v-O2PR",
    "outputId": "116849fa-0c15-4e85-86c6-29e3269c8fa9"
   },
   "outputs": [
    {
     "name": "stdout",
     "output_type": "stream",
     "text": [
      "The length of base form number is 9\n",
      "101100010"
     ]
    }
   ],
   "source": [
    "l = [1,0,1,1,0,0,0,1,0]\n",
    "print('The length of base form number is {}'.format(len(l)))\n",
    "for i in range(len(l)):\n",
    "    print(l[i] , end = \"\")"
   ]
  },
  {
   "cell_type": "markdown",
   "metadata": {
    "id": "OIQSuub1cWgi"
   },
   "source": [
    "**map(**) is a function that applies a specific function to every item of a sequence or collection, and returns a list of the results."
   ]
  },
  {
   "cell_type": "code",
   "execution_count": null,
   "metadata": {
    "colab": {
     "base_uri": "https://localhost:8080/"
    },
    "id": "lJBs5ECT4mSq",
    "outputId": "cda476e9-f2f1-4de1-a7e3-4bc3cb274457"
   },
   "outputs": [
    {
     "data": {
      "text/plain": [
       "[4, 1, 4, 4, 1, 1, 1, 4, 1]"
      ]
     },
     "execution_count": 148,
     "metadata": {},
     "output_type": "execute_result"
    }
   ],
   "source": [
    "def f(x):\n",
    "  return 3*x+1\n",
    "list(map(f,l))"
   ]
  },
  {
   "cell_type": "markdown",
   "metadata": {
    "id": "mvr06UM7ca7b"
   },
   "source": [
    "The **lambda operator** is a way to create small anonymous functions. These functions are just needed where they have been created. For example:"
   ]
  },
  {
   "cell_type": "code",
   "execution_count": null,
   "metadata": {
    "colab": {
     "base_uri": "https://localhost:8080/"
    },
    "id": "pAEHADYXO2PR",
    "outputId": "0a7f40dd-3e29-403d-b44f-1f900873f1ca"
   },
   "outputs": [
    {
     "data": {
      "text/plain": [
       "[0, 3, 8, 15, 24, 35, 48, 63, 80, 99, 120, 143, 168, 195, 224]"
      ]
     },
     "execution_count": 157,
     "metadata": {},
     "output_type": "execute_result"
    }
   ],
   "source": [
    "list(map(lambda x: 2*x+x**2, range(15)))"
   ]
  },
  {
   "cell_type": "markdown",
   "metadata": {
    "id": "Mgixpxomcj3T"
   },
   "source": [
    "map() can be applied to more than one list. The lists have to have the same length."
   ]
  },
  {
   "cell_type": "code",
   "execution_count": null,
   "metadata": {
    "colab": {
     "base_uri": "https://localhost:8080/"
    },
    "id": "HtckhAaJO2PS",
    "outputId": "412e8c2e-cf73-4fcf-f0b9-f0c9e806c735"
   },
   "outputs": [
    {
     "data": {
      "text/plain": [
       "[26.02, 50.449999999999996, 82.89999999999999, 9.770000000000001, 123.46]"
      ]
     },
     "execution_count": 159,
     "metadata": {},
     "output_type": "execute_result"
    }
   ],
   "source": [
    "list(map(lambda x, y: x**2+y**2, [0.1,0.2,0.3,0.4,0.5],[5.1,7.1,9.1,3.1,11.1])) #Floating point error example as well"
   ]
  },
  {
   "cell_type": "markdown",
   "metadata": {
    "id": "ZDnMTH-KcklT"
   },
   "source": [
    "**sorted()** takes a list or set and returns a new sorted list"
   ]
  },
  {
   "cell_type": "code",
   "execution_count": null,
   "metadata": {
    "colab": {
     "base_uri": "https://localhost:8080/"
    },
    "id": "P0sHUMFWO2PS",
    "outputId": "fb5daeeb-e761-42c4-b1bf-1af86f1745cc"
   },
   "outputs": [
    {
     "data": {
      "text/plain": [
       "[10, 10, 11, 12, 16, 27]"
      ]
     },
     "execution_count": 166,
     "metadata": {},
     "output_type": "execute_result"
    }
   ],
   "source": [
    "from random import randrange as rd\n",
    "sorted([rd(10,30),rd(10,30),rd(10,30),rd(10,30),rd(10,30),rd(10,30)])"
   ]
  },
  {
   "cell_type": "markdown",
   "metadata": {
    "id": "-N5_EDOFcnsc"
   },
   "source": [
    "We can add a \"key\" parameter to specify a function to be called on each list element prior to making comparisons. For example:"
   ]
  },
  {
   "cell_type": "code",
   "execution_count": null,
   "metadata": {
    "colab": {
     "base_uri": "https://localhost:8080/"
    },
    "id": "0i3peZ0bO2PS",
    "outputId": "8547109f-2638-44e3-8ebf-88d04db11592"
   },
   "outputs": [
    {
     "data": {
      "text/plain": [
       "[('Banjul', 'Gambia'),\n",
       " ('Bogota', 'Colombia'),\n",
       " ('Buenos Aires', 'Argentina'),\n",
       " ('Freetown', 'Sierra Leona'),\n",
       " ('Tailin', 'Estonia')]"
      ]
     },
     "execution_count": 169,
     "metadata": {},
     "output_type": "execute_result"
    }
   ],
   "source": [
    "country_list = [('Bogota',\"Colombia\"),('Buenos Aires',\"Argentina\"),('Tailin',\"Estonia\"),('Banjul',\"Gambia\"),('Freetown',\"Sierra Leona\")]\n",
    "sorted(country_list, key = lambda x: x[0])"
   ]
  },
  {
   "cell_type": "markdown",
   "metadata": {
    "id": "yun2zptKcxe_"
   },
   "source": [
    "By default the values are sorted by ascending order. We can change it to descending by adding an optional parameter \"reverse'."
   ]
  },
  {
   "cell_type": "code",
   "execution_count": null,
   "metadata": {
    "colab": {
     "base_uri": "https://localhost:8080/"
    },
    "id": "dEZqdl94O2PT",
    "outputId": "832dd4c6-ae4e-47ef-a361-a637edb52bdc"
   },
   "outputs": [
    {
     "name": "stdout",
     "output_type": "stream",
     "text": [
      "[('Freetown', 'Sierra Leona'), ('Banjul', 'Gambia'), ('Tailin', 'Estonia'), ('Bogota', 'Colombia'), ('Buenos Aires', 'Argentina')]\n",
      "[('Buenos Aires', 'Argentina'), ('Bogota', 'Colombia'), ('Tailin', 'Estonia'), ('Banjul', 'Gambia'), ('Freetown', 'Sierra Leona')]\n"
     ]
    }
   ],
   "source": [
    "print(sorted(country_list, key = lambda x: x[1],reverse = True))\n",
    "print(country_list) #Compare"
   ]
  },
  {
   "cell_type": "markdown",
   "metadata": {
    "id": "OA2wYAa0c6Dn"
   },
   "source": [
    "Lists also have a function list.sort(). This function takes the same \"key\" and \"reverse\" arguments as sorted(), but it doesn't return a new list."
   ]
  },
  {
   "cell_type": "code",
   "execution_count": null,
   "metadata": {
    "colab": {
     "base_uri": "https://localhost:8080/"
    },
    "id": "pG9VQCLnO2PT",
    "outputId": "04e9a059-65db-403e-9b27-aa1c23c2bbe7"
   },
   "outputs": [
    {
     "name": "stdout",
     "output_type": "stream",
     "text": [
      "[('Buenos Aires', 'Argentina'), ('Bogota', 'Colombia'), ('Tailin', 'Estonia'), ('Banjul', 'Gambia'), ('Freetown', 'Sierra Leona')]\n"
     ]
    }
   ],
   "source": [
    "country_list.sort(key = lambda x: x[1])\n",
    "print(country_list)"
   ]
  },
  {
   "cell_type": "markdown",
   "metadata": {
    "id": "mxljL1W1c_c5"
   },
   "source": [
    "# Object-Oriented Programming\n",
    "Python is an object-oriented programming language. It's important to understand the concept of \"objects\" because almost every kind of data from QuantConnect API is an object.\n",
    "\n",
    "## Class\n",
    "A class is a type of data, just like a string, float, or list. When we create an object of that data type, we call it an instance of a class.\n",
    "\n",
    "In Python, everything is an object - everything is an instance of some class. The data stored inside an object are called attributes, and the functions which are associated with the object are called methods.\n",
    "\n",
    "For example, as mentioned above, a list is an object of the \"list\" class, and it has a method list.sort().\n",
    "\n",
    "We can create our own objects by defining a class. We would do this when it's helpful to group certain functions together. For example, we define a class named \"Jumbo\" here:"
   ]
  },
  {
   "cell_type": "code",
   "execution_count": 2,
   "metadata": {
    "id": "zC4Y4PgDO2PT"
   },
   "outputs": [],
   "source": [
    "class Jumbo:\n",
    "    def __init__(self, products, open):\n",
    "        self.products = products\n",
    "        self.open = open\n",
    " \n",
    "    def update_open(self, open):\n",
    "        self.open = open\n",
    "    \n",
    "    def update_products(self, product):\n",
    "      if product not in self.products:\n",
    "        return \"Product sold out\"\n",
    "      else:\n",
    "        self.products.remove(product)"
   ]
  },
  {
   "cell_type": "markdown",
   "metadata": {
    "id": "rV06INT5dETi"
   },
   "source": [
    "The \"Jumbo\" class has attributes \"products\" and \"open\". Inside the class body, the first method is called __init__, which is a special method. When we create a new instance of the class, the __init__ method is immediately executed with all the parameters that we pass to the \"Jumbo\" object. The purpose of this method is to set up a new \"Jumbo\" object using data we have provided.\n",
    "\n",
    "Here we create two Jumbo objects named \"Hayuelos\" and \"El_Eden\"."
   ]
  },
  {
   "cell_type": "code",
   "execution_count": 3,
   "metadata": {
    "id": "8tIpNk93O2PU"
   },
   "outputs": [],
   "source": [
    "Hayuelos = Jumbo([\"chips\", \"soap\", \"clothes\", \"fish\"], True)\n",
    "El_Eden = Jumbo([\"chips\", \"soap\", \"clothes\", \"fish\", \"tablets\"], True)"
   ]
  },
  {
   "cell_type": "markdown",
   "metadata": {
    "id": "VxmELNiHdPKS"
   },
   "source": [
    "Jumbo objects also have two other methods: update_open() and update_products(). We can access the attribues of a Jumbo object and call its methods:"
   ]
  },
  {
   "cell_type": "code",
   "execution_count": 4,
   "metadata": {
    "colab": {
     "base_uri": "https://localhost:8080/"
    },
    "id": "SsiIkmekO2PU",
    "outputId": "09cba4a4-ddde-4246-e1fd-5069c1da220c"
   },
   "outputs": [
    {
     "name": "stdout",
     "output_type": "stream",
     "text": [
      "['chips', 'soap', 'clothes', 'fish']\n",
      "['chips', 'soap', 'clothes', 'fish', 'tablets']\n",
      "['chips', 'clothes', 'fish']\n",
      "True\n"
     ]
    }
   ],
   "source": [
    "print(Hayuelos.products)\n",
    "print(El_Eden.products)\n",
    "Hayuelos.update_products(\"soap\") #Use the method \"update_products\" of the class \"Jumbo\" to check and delete the element from the list\n",
    "Hayuelos.update_products(\"soap\") #Repeat\n",
    "print(Hayuelos.products) #Access the object atribute \"products\" that is a list\n",
    "print(El_Eden.open) #Access the object atribute \"open\" that is a bool"
   ]
  },
  {
   "cell_type": "markdown",
   "metadata": {
    "id": "Q8fl7keNdVKF"
   },
   "source": [
    "By calling the update_open() function, we updated the open and close quality of Jumbo market. Please note that when we use the attributes or call the methods **inside a class**, we need to specify them as self.attribute or self.method(), otherwise Python will deem them as global variables and thus raise an error.\n",
    "\n",
    "We can add an attribute to an object anywhere:"
   ]
  },
  {
   "cell_type": "code",
   "execution_count": 8,
   "metadata": {
    "colab": {
     "base_uri": "https://localhost:8080/",
     "height": 35
    },
    "id": "rO4OLnqOO2PU",
    "outputId": "28065792-9dad-417e-ced7-5f4db92e6d0e"
   },
   "outputs": [
    {
     "data": {
      "text/plain": [
       "'Cencosud'"
      ]
     },
     "execution_count": 8,
     "metadata": {},
     "output_type": "execute_result"
    }
   ],
   "source": [
    "Hayuelos.owner = 'Cencosud' #Define new atribute for that specific object\n",
    "Hayuelos.owner"
   ]
  },
  {
   "cell_type": "markdown",
   "metadata": {
    "id": "WyfnFgVidh4J"
   },
   "source": [
    "We can check what names (i.e. attributes and methods) are defined on an object using the dir() function:"
   ]
  },
  {
   "cell_type": "code",
   "execution_count": null,
   "metadata": {
    "colab": {
     "base_uri": "https://localhost:8080/"
    },
    "id": "pPoz0LA8O2PU",
    "outputId": "92a25f77-1acb-46be-a18b-8bd43672ebf9"
   },
   "outputs": [
    {
     "data": {
      "text/plain": [
       "['__class__',\n",
       " '__delattr__',\n",
       " '__dict__',\n",
       " '__dir__',\n",
       " '__doc__',\n",
       " '__eq__',\n",
       " '__format__',\n",
       " '__ge__',\n",
       " '__getattribute__',\n",
       " '__gt__',\n",
       " '__hash__',\n",
       " '__init__',\n",
       " '__init_subclass__',\n",
       " '__le__',\n",
       " '__lt__',\n",
       " '__module__',\n",
       " '__ne__',\n",
       " '__new__',\n",
       " '__reduce__',\n",
       " '__reduce_ex__',\n",
       " '__repr__',\n",
       " '__setattr__',\n",
       " '__sizeof__',\n",
       " '__str__',\n",
       " '__subclasshook__',\n",
       " '__weakref__',\n",
       " 'ceo',\n",
       " 'open',\n",
       " 'products',\n",
       " 'update_open',\n",
       " 'update_products']"
      ]
     },
     "execution_count": 8,
     "metadata": {},
     "output_type": "execute_result"
    }
   ],
   "source": [
    "dir(Hayuelos)"
   ]
  },
  {
   "cell_type": "markdown",
   "metadata": {
    "id": "Qpemj1UZd2aa"
   },
   "source": [
    "## Inheritance\n",
    "Inheritance is a way of arranging classes in a hierarchy from the most general to the most specific. A \"child\" class is a more specific type of a \"parent\" class because a child class will inherit all the attribues and methods of its parent. For example, we define a class named \"Child\" which inherits \"Jumbo\":"
   ]
  },
  {
   "cell_type": "code",
   "execution_count": 9,
   "metadata": {
    "id": "UELXnxomO2PV"
   },
   "outputs": [],
   "source": [
    "class child(Jumbo):\n",
    "    def __init__(self,name):\n",
    "        self.name = name"
   ]
  },
  {
   "cell_type": "code",
   "execution_count": 10,
   "metadata": {
    "colab": {
     "base_uri": "https://localhost:8080/"
    },
    "id": "ffS2THZyO2PV",
    "outputId": "90970fd8-e4a3-414f-de58-6759b494efbc"
   },
   "outputs": [
    {
     "name": "stdout",
     "output_type": "stream",
     "text": [
      "Paloquemao\n",
      "False\n"
     ]
    }
   ],
   "source": [
    "aa = child('Paloquemao')\n",
    "print(aa.name)\n",
    "aa.update_open(False)\n",
    "print(aa.open)"
   ]
  },
  {
   "cell_type": "markdown",
   "metadata": {
    "id": "pdIEjUv2eJqL"
   },
   "source": [
    "As seen above, the new class Child has inherited the methods from Jumbo.\n",
    "\n",
    "#Summary\n",
    "\n",
    "In this chapter we have introduced functions and classes. When we write a QuantConnect algorithm, we would define our algorithm as a class (QCAlgorithm). This means our algorithm inherited the QC API methods from QCAlgorithm class.\n",
    "\n",
    "In the next chapter, we will introduce NumPy and Pandas, which enable us to conduct scientific calculations in Python."
   ]
  },
  {
   "cell_type": "markdown",
   "metadata": {
    "id": "dQbENH6mexTd"
   },
   "source": [
    "<div align=\"center\">\n",
    "<img style=\"display: block; margin: auto;\" alt=\"photo\" src=\"https://cdn.quantconnect.com/web/i/icon.png\">\n",
    "\n",
    "Quantconnect\n",
    "\n",
    "Introduction to Financial Python\n",
    "</div>\n",
    "\n",
    "# 04 NumPy and Basic Pandas\n",
    "\n",
    "# Introduction\n",
    "\n",
    "Now that we have introduced the fundamentals of Python, it's time to learn about NumPy and Pandas.\n",
    "\n",
    "# NumPy\n",
    "NumPy is the core library for scientific computing in Python. It provides a high-performance multidimensional array object, and tools for working with these arrays. It also has strong integration with Pandas, which is another powerful tool for manipulating financial data.\n",
    "\n",
    "Python packages like NumPy and Pandas contain classes and methods which we can use by importing the package:"
   ]
  },
  {
   "cell_type": "code",
   "execution_count": 113,
   "metadata": {
    "id": "aIESp-rdO58h"
   },
   "outputs": [],
   "source": [
    "import numpy as np"
   ]
  },
  {
   "cell_type": "markdown",
   "metadata": {
    "id": "GScHHJ5ke7ea"
   },
   "source": [
    "## Basic NumPy Arrays\n",
    "A NumPy array is a grid of values, all of the same type, and is indexed by a tuple of nonnegative integers. Here we make an array by passing a list of Apple stock prices:"
   ]
  },
  {
   "cell_type": "code",
   "execution_count": 116,
   "metadata": {
    "colab": {
     "base_uri": "https://localhost:8080/"
    },
    "id": "lZI1wkwDO58i",
    "outputId": "33dee017-660a-4da3-af41-622359fca713"
   },
   "outputs": [
    {
     "name": "stdout",
     "output_type": "stream",
     "text": [
      "[143.02  145.02  144.04  144.02  142.01  142.001] <class 'numpy.ndarray'>\n"
     ]
    }
   ],
   "source": [
    "num_list = [143.02, 145.02, 144.04, 144.02, 142.01, 142.001]\n",
    "num_array = np.array(num_list) #Create numpy array\n",
    "print(num_array, type(num_array))"
   ]
  },
  {
   "cell_type": "markdown",
   "metadata": {
    "id": "-5Yj6u9ifB-t"
   },
   "source": [
    "Notice that the type of array is \"ndarray\" which is a multi-dimensional array. If we pass np.array() a list of lists, it will create a 2-dimensional array."
   ]
  },
  {
   "cell_type": "code",
   "execution_count": 117,
   "metadata": {
    "colab": {
     "base_uri": "https://localhost:8080/"
    },
    "id": "obvIZrK-O58j",
    "outputId": "cf625e21-746d-4bd3-b4a1-5d0ad123794b"
   },
   "outputs": [
    {
     "name": "stdout",
     "output_type": "stream",
     "text": [
      "[[0 0]\n",
      " [0 1]] <class 'numpy.ndarray'>\n"
     ]
    }
   ],
   "source": [
    "Ar = np.array([[0,0],[0,1]]) #Create numpy matrix\n",
    "print(Ar, type(Ar))"
   ]
  },
  {
   "cell_type": "markdown",
   "metadata": {
    "id": "uDdfLD9HfHkl"
   },
   "source": [
    "We get the dimensions of an ndarray using the .shape attribute:"
   ]
  },
  {
   "cell_type": "code",
   "execution_count": 118,
   "metadata": {
    "colab": {
     "base_uri": "https://localhost:8080/"
    },
    "id": "G2txdn73O58j",
    "outputId": "6fa5324f-7722-4c0d-b5ca-64a2557928bc"
   },
   "outputs": [
    {
     "name": "stdout",
     "output_type": "stream",
     "text": [
      "(2, 2)\n"
     ]
    }
   ],
   "source": [
    "print(Ar.shape) #.shape is the dimension of the numpy array"
   ]
  },
  {
   "cell_type": "markdown",
   "metadata": {
    "id": "87W5ueORfPEy"
   },
   "source": [
    "If we create an 2-dimensional array (i.e. matrix), each row can be accessed by index:"
   ]
  },
  {
   "cell_type": "code",
   "execution_count": 119,
   "metadata": {
    "colab": {
     "base_uri": "https://localhost:8080/"
    },
    "id": "x_QV9aPbO58j",
    "outputId": "d7a722c1-aa32-4fbf-a790-25d3e36213ff"
   },
   "outputs": [
    {
     "name": "stdout",
     "output_type": "stream",
     "text": [
      "[0 0]\n",
      "1\n"
     ]
    }
   ],
   "source": [
    "print(Ar[0])\n",
    "print(Ar[1][1])"
   ]
  },
  {
   "cell_type": "markdown",
   "metadata": {
    "id": "5Hke7Vt-fSGB"
   },
   "source": [
    "If we want to access the matrix by column instead:"
   ]
  },
  {
   "cell_type": "code",
   "execution_count": 120,
   "metadata": {
    "colab": {
     "base_uri": "https://localhost:8080/"
    },
    "id": "gHVwbPfOO58j",
    "outputId": "2c66443a-68fc-427b-c3fd-82d459d51590"
   },
   "outputs": [
    {
     "name": "stdout",
     "output_type": "stream",
     "text": [
      "the first column:  [0 0]\n",
      "the second column:  [0 1]\n"
     ]
    }
   ],
   "source": [
    "print('the first column: ', Ar[:,0])\n",
    "print('the second column: ', Ar[:,1])"
   ]
  },
  {
   "cell_type": "markdown",
   "metadata": {
    "id": "T61cD0HMfStB"
   },
   "source": [
    "## Array Functions\n",
    "Some functions built in NumPy that allow us to perform calculations on arrays. For example, we can apply the natural logarithm to each element of an array:"
   ]
  },
  {
   "cell_type": "code",
   "execution_count": 121,
   "metadata": {
    "colab": {
     "base_uri": "https://localhost:8080/"
    },
    "id": "PKhwtJ7XO58k",
    "outputId": "b3950d8e-1d2f-4b72-bdd0-bc679181a99d"
   },
   "outputs": [
    {
     "name": "stdout",
     "output_type": "stream",
     "text": [
      "[4.96298448 4.97687166 4.97009104 4.96995218 4.95589748 4.9558341 ]\n"
     ]
    }
   ],
   "source": [
    "print(np.log(num_array)) #Log in every entry of the array"
   ]
  },
  {
   "cell_type": "markdown",
   "metadata": {
    "id": "uzjBRFBLfZ-D"
   },
   "source": [
    "Other functions return a single value:"
   ]
  },
  {
   "cell_type": "code",
   "execution_count": 122,
   "metadata": {
    "colab": {
     "base_uri": "https://localhost:8080/"
    },
    "id": "nQuABZqUO58k",
    "outputId": "06eef06b-08ee-486f-ff07-bca0aea2cf94"
   },
   "outputs": [
    {
     "name": "stdout",
     "output_type": "stream",
     "text": [
      "143.35183333333333\n",
      "1.1134167259187202\n",
      "860.111\n",
      "145.02\n"
     ]
    }
   ],
   "source": [
    "print(np.mean(num_array)) #Calculate (a1+a2+...+an)/n of the data in the array\n",
    "print(np.std(num_array)) #Calculate standard deviation (sqrt(sum(|x-mean|^2)/n)) of the data in the array\n",
    "print(np.sum(num_array)) #Sum the elements of the array\n",
    "print(np.max(num_array)) #Obtain the maximun value of the array"
   ]
  },
  {
   "cell_type": "markdown",
   "metadata": {
    "id": "IRW95BsifgDB"
   },
   "source": [
    "The functions above return the mean, standard deviation, total and maximum value of an array.\n",
    "\n",
    "# Pandas\n",
    "Pandas is one of the most powerful tools for dealing with financial data. \n",
    "\n",
    "First we need to import Pandas:"
   ]
  },
  {
   "cell_type": "code",
   "execution_count": 123,
   "metadata": {
    "id": "xIYH4oUfO58k"
   },
   "outputs": [],
   "source": [
    "import pandas as pd"
   ]
  },
  {
   "cell_type": "markdown",
   "metadata": {
    "id": "zOig5gORfnJU"
   },
   "source": [
    "## Series\n",
    "Series is a one-dimensional labeled array capable of holding any data type (integers, strings, float, Python object, etc.)\n",
    "\n",
    "We create a Series by calling pd.Series(data), where data can be a dictionary, an array or just a scalar value."
   ]
  },
  {
   "cell_type": "code",
   "execution_count": 124,
   "metadata": {
    "colab": {
     "base_uri": "https://localhost:8080/"
    },
    "id": "JmzoNzrPO58k",
    "outputId": "73b8a16a-6830-46eb-ea36-bdffe1a83a12"
   },
   "outputs": [
    {
     "data": {
      "text/plain": [
       "0    143.020\n",
       "1    145.020\n",
       "2    144.040\n",
       "3    144.020\n",
       "4    142.010\n",
       "5    142.001\n",
       "dtype: float64"
      ]
     },
     "execution_count": 124,
     "metadata": {},
     "output_type": "execute_result"
    }
   ],
   "source": [
    "serie_example = num_list\n",
    "s = pd.Series(serie_example) #Print the labeled array\n",
    "s"
   ]
  },
  {
   "cell_type": "markdown",
   "metadata": {
    "id": "tP5iDnunfq46"
   },
   "source": [
    "We can customize the indices of a new Series:"
   ]
  },
  {
   "cell_type": "code",
   "execution_count": 125,
   "metadata": {
    "colab": {
     "base_uri": "https://localhost:8080/"
    },
    "id": "eswQC3ZPO58l",
    "outputId": "df1a1b96-4c2a-469d-b043-dc7a6b25cbe8"
   },
   "outputs": [
    {
     "data": {
      "text/plain": [
       "a    143.020\n",
       "b    145.020\n",
       "c    144.040\n",
       "d    144.020\n",
       "e    142.010\n",
       "f    142.001\n",
       "dtype: float64"
      ]
     },
     "execution_count": 125,
     "metadata": {},
     "output_type": "execute_result"
    }
   ],
   "source": [
    "s = pd.Series(serie_example,index = ['a','b','c','d','e','f']) #Print labeled array with different labels\n",
    "s"
   ]
  },
  {
   "cell_type": "markdown",
   "metadata": {
    "id": "wdZrb8pEfuua"
   },
   "source": [
    "Or we can change the indices of an existing Series:"
   ]
  },
  {
   "cell_type": "code",
   "execution_count": 126,
   "metadata": {
    "colab": {
     "base_uri": "https://localhost:8080/"
    },
    "id": "MwlRnPF6O58l",
    "outputId": "a05654f9-2e77-4b33-b6d8-8de80fa091e4"
   },
   "outputs": [
    {
     "data": {
      "text/plain": [
       "6    143.020\n",
       "5    145.020\n",
       "4    144.040\n",
       "3    144.020\n",
       "2    142.010\n",
       "1    142.001\n",
       "dtype: float64"
      ]
     },
     "execution_count": 126,
     "metadata": {},
     "output_type": "execute_result"
    }
   ],
   "source": [
    "s.index = [6,5,4,3,2,1] #Change indexes of the labeled array\n",
    "s"
   ]
  },
  {
   "cell_type": "markdown",
   "metadata": {
    "id": "6cGNQZwLfxIz"
   },
   "source": [
    "Series is like a list since it can be sliced by index:"
   ]
  },
  {
   "cell_type": "code",
   "execution_count": 127,
   "metadata": {
    "colab": {
     "base_uri": "https://localhost:8080/"
    },
    "id": "N9bBSg6cO58l",
    "outputId": "c7f54fdf-f07c-4ff6-898f-8939f83adfca"
   },
   "outputs": [
    {
     "name": "stdout",
     "output_type": "stream",
     "text": [
      "5    145.020\n",
      "4    144.040\n",
      "3    144.020\n",
      "2    142.010\n",
      "1    142.001\n",
      "dtype: float64\n",
      "6    143.02\n",
      "5    145.02\n",
      "4    144.04\n",
      "3    144.02\n",
      "dtype: float64\n"
     ]
    }
   ],
   "source": [
    "print(s[1:])\n",
    "print(s[:-2])"
   ]
  },
  {
   "cell_type": "markdown",
   "metadata": {
    "id": "5V25nViZfz3Z"
   },
   "source": [
    "Series is also like a dictionary whose values can be set or fetched by index label:"
   ]
  },
  {
   "cell_type": "code",
   "execution_count": 128,
   "metadata": {
    "colab": {
     "base_uri": "https://localhost:8080/"
    },
    "id": "b3Y0kKGYO58l",
    "outputId": "58add531-ec2a-4b22-89ab-d6948a4e2881"
   },
   "outputs": [
    {
     "name": "stdout",
     "output_type": "stream",
     "text": [
      "144.04\n",
      "6    143.020\n",
      "5    145.020\n",
      "4     10.000\n",
      "3    144.020\n",
      "2    142.010\n",
      "1    142.001\n",
      "dtype: float64\n"
     ]
    }
   ],
   "source": [
    "print(s[4])\n",
    "s[4] = 10\n",
    "print(s)"
   ]
  },
  {
   "cell_type": "markdown",
   "metadata": {
    "id": "RQ1P7Gkyf060"
   },
   "source": [
    "Series can also have a name attribute, which will be used when we make up a Pandas DataFrame using several series."
   ]
  },
  {
   "cell_type": "code",
   "execution_count": 129,
   "metadata": {
    "colab": {
     "base_uri": "https://localhost:8080/"
    },
    "id": "ZeD4-p7KO58m",
    "outputId": "1a7f61af-60bd-4ea0-fb4a-3dffb53f7edb"
   },
   "outputs": [
    {
     "name": "stdout",
     "output_type": "stream",
     "text": [
      "0    143.020\n",
      "1    145.020\n",
      "2    144.040\n",
      "3    144.020\n",
      "4    142.010\n",
      "5    142.001\n",
      "Name: PS4 games price example, dtype: float64\n",
      "PS4 games price example\n"
     ]
    }
   ],
   "source": [
    "s = pd.Series(serie_example, name = 'PS4 games price example') #Name for series\n",
    "print(s)\n",
    "print(s.name) #Name for series"
   ]
  },
  {
   "cell_type": "markdown",
   "metadata": {
    "id": "geJb1pGHf5Et"
   },
   "source": [
    "We can get the statistical summaries of a Series:"
   ]
  },
  {
   "cell_type": "code",
   "execution_count": 130,
   "metadata": {
    "colab": {
     "base_uri": "https://localhost:8080/"
    },
    "id": "mGPtFcjegm4i",
    "outputId": "463441a9-67fe-4f7d-f86a-70fd1489940e"
   },
   "outputs": [
    {
     "name": "stdout",
     "output_type": "stream",
     "text": [
      "count      6.000000\n",
      "mean     143.351833\n",
      "std        1.219687\n",
      "min      142.001000\n",
      "25%      142.262500\n",
      "50%      143.520000\n",
      "75%      144.035000\n",
      "max      145.020000\n",
      "Name: PS4 games price example, dtype: float64\n"
     ]
    }
   ],
   "source": [
    "print(s.describe()) #Function to obtain statistical information of a normal distribution with the series data"
   ]
  },
  {
   "cell_type": "markdown",
   "metadata": {
    "id": "LkdZu-CDgvlR"
   },
   "source": [
    "## Time Index\n",
    "Pandas has a built-in function specifically for creating date indices: pd.date_range(). We use it to create a new index for our Series:"
   ]
  },
  {
   "cell_type": "code",
   "execution_count": 131,
   "metadata": {
    "colab": {
     "base_uri": "https://localhost:8080/"
    },
    "id": "HJe5hU4zO58m",
    "outputId": "c45705bb-231c-4c27-b947-1e6060b085c5"
   },
   "outputs": [
    {
     "name": "stdout",
     "output_type": "stream",
     "text": [
      "DatetimeIndex(['2022-08-22', '2022-08-23', '2022-08-24', '2022-08-25',\n",
      "               '2022-08-26', '2022-08-27'],\n",
      "              dtype='datetime64[ns]', freq='D')\n",
      "------\n",
      "2022-08-22    143.020\n",
      "2022-08-23    145.020\n",
      "2022-08-24    144.040\n",
      "2022-08-25    144.020\n",
      "2022-08-26    142.010\n",
      "2022-08-27    142.001\n",
      "Freq: D, Name: PS4 games price example, dtype: float64\n"
     ]
    }
   ],
   "source": [
    "time_index = pd.date_range('2022-08-22',periods = len(s),freq = 'D') #Function to create a tiome index variable\n",
    "print(time_index)\n",
    "print(\"------\")\n",
    "s.index = time_index #index a series with a time index\n",
    "print(s)"
   ]
  },
  {
   "cell_type": "markdown",
   "metadata": {
    "id": "7WedejFZg19J"
   },
   "source": [
    "Series are usually accessed using the iloc[] and loc[] methods. iloc[] is used to access elements by integer index, and loc[] is used to access the index of the series.\n",
    "\n",
    "iloc[] is necessary when the index of a series are integers, take our previous defined series as example:"
   ]
  },
  {
   "cell_type": "code",
   "execution_count": 132,
   "metadata": {
    "colab": {
     "base_uri": "https://localhost:8080/"
    },
    "id": "KrVSOyMvO58m",
    "outputId": "982c1577-6a1d-4fd2-dae9-8902d5f08620"
   },
   "outputs": [
    {
     "name": "stdout",
     "output_type": "stream",
     "text": [
      "6    143.020\n",
      "5    145.020\n",
      "4    144.040\n",
      "3    144.020\n",
      "2    142.010\n",
      "1    142.001\n",
      "Name: PS4 games price example, dtype: float64\n",
      "144.04\n"
     ]
    }
   ],
   "source": [
    "s.index = [6,5,4,3,2,1]\n",
    "print(s)\n",
    "print(s[4])"
   ]
  },
  {
   "cell_type": "markdown",
   "metadata": {
    "id": "r30VKPtpg61p"
   },
   "source": [
    "If we intended to take the 5th element of the series, we would make a mistake here, because the index are integers. In order to access to the element we want, we use iloc[] here:"
   ]
  },
  {
   "cell_type": "code",
   "execution_count": 133,
   "metadata": {
    "colab": {
     "base_uri": "https://localhost:8080/"
    },
    "id": "bHukfaAmO58m",
    "outputId": "8b1f5841-6c64-44f3-85ca-70421905fd86"
   },
   "outputs": [
    {
     "name": "stdout",
     "output_type": "stream",
     "text": [
      "142.01\n"
     ]
    }
   ],
   "source": [
    "print(s.iloc[4]) #5th element of the array"
   ]
  },
  {
   "cell_type": "markdown",
   "metadata": {
    "id": "kHVBRL_Rg84j"
   },
   "source": [
    "While working with time series data, we often use time as the index. Pandas provides us with various methods to access the data by time index"
   ]
  },
  {
   "cell_type": "code",
   "execution_count": 135,
   "metadata": {
    "colab": {
     "base_uri": "https://localhost:8080/"
    },
    "id": "FCf8Hg7jO58n",
    "outputId": "d7526941-29ef-47e7-e2e7-b1e22613d88c"
   },
   "outputs": [
    {
     "name": "stdout",
     "output_type": "stream",
     "text": [
      "143.02\n"
     ]
    }
   ],
   "source": [
    "s.index = time_index #setting numpy array index as time index\n",
    "print(s['2022-08-22'])"
   ]
  },
  {
   "cell_type": "markdown",
   "metadata": {
    "id": "XJXcrSFpg-To"
   },
   "source": [
    "We can even access to a range of dates:"
   ]
  },
  {
   "cell_type": "code",
   "execution_count": 136,
   "metadata": {
    "colab": {
     "base_uri": "https://localhost:8080/"
    },
    "id": "NsE-Lr_9O58n",
    "outputId": "9cbfa9ca-873c-495d-d402-8a1c1e5dc728"
   },
   "outputs": [
    {
     "name": "stdout",
     "output_type": "stream",
     "text": [
      "2022-08-22    143.02\n",
      "2022-08-23    145.02\n",
      "2022-08-24    144.04\n",
      "2022-08-25    144.02\n",
      "Freq: D, Name: PS4 games price example, dtype: float64\n"
     ]
    }
   ],
   "source": [
    "print(s['2017-08-22':'2022-08-25']) #Range of the array using time index"
   ]
  },
  {
   "cell_type": "markdown",
   "metadata": {
    "id": "cWA3NCXEhCLB"
   },
   "source": [
    "Series[] provides us a very flexible way to index data. We can add any condition in the square brackets:"
   ]
  },
  {
   "cell_type": "code",
   "execution_count": 138,
   "metadata": {
    "colab": {
     "base_uri": "https://localhost:8080/"
    },
    "id": "aawbrg2EO58n",
    "outputId": "f20179c0-a235-43a8-fcbc-3360e57f5fff"
   },
   "outputs": [
    {
     "name": "stdout",
     "output_type": "stream",
     "text": [
      "2022-08-22    143.020\n",
      "2022-08-26    142.010\n",
      "2022-08-27    142.001\n",
      "Name: PS4 games price example, dtype: float64\n",
      "[2022-08-22    False\n",
      "2022-08-23     True\n",
      "2022-08-24     True\n",
      "2022-08-25     True\n",
      "2022-08-26    False\n",
      "2022-08-27    False\n",
      "Freq: D, Name: PS4 games price example, dtype: bool]\n"
     ]
    }
   ],
   "source": [
    "print(s[s < np.mean(s)] )\n",
    "print([(s > np.mean(s)) & (s < np.mean(s) + 1.64*np.std(s))])\n",
    "#Use of logical operators inside the numpy operations in arrays"
   ]
  },
  {
   "cell_type": "markdown",
   "metadata": {
    "id": "jAByChIwhEuI"
   },
   "source": [
    "As demonstrated, we can use logical operators like & (and), | (or) and ~ (not) to group multiple conditions.\n",
    "\n",
    "# Summary\n",
    "Here we have introduced NumPy and Pandas for scientific computing in Python. In the next chapter, we will dive into Pandas to learn resampling and manipulating Pandas DataFrame, which are commonly used in financial data analysis."
   ]
  },
  {
   "cell_type": "markdown",
   "metadata": {
    "id": "OtjOpw6oJp6z"
   },
   "source": [
    "<div align=\"center\">\n",
    "<img style=\"display: block; margin: auto;\" alt=\"photo\" src=\"https://cdn.quantconnect.com/web/i/icon.png\"> <img style=\"display: block; margin: auto;\" alt=\"photo\" src=\"https://www.marketing-branding.com/wp-content/uploads/2020/07/google-colaboratory-colab-guia-completa.jpg \" width=\"50\" height=\"50\">\n",
    "<img style=\"display: block; margin: auto;\" alt=\"photo\" src=\"https://upload.wikimedia.org/wikipedia/commons/d/da/Yahoo_Finance_Logo_2019.svg\" width=\"50\" height=\"50\">  \n",
    "\n",
    "Quantconnect -> Google Colab with Yahoo Finance data\n",
    "\n",
    "Introduction to Financial Python\n",
    "</div>\n",
    "\n",
    "# 05 Pandas-Resampling and DataFrame\n",
    "\n",
    "# Introduction\n",
    "In the last chapter we had a glimpse of Pandas. In this chapter we will learn about resampling methods and the DataFrame object, which is a powerful tool for financial data analysis.\n",
    "\n",
    "# Fetching Data\n",
    "Here we use the Yahoo Finance to retrieve data.\n"
   ]
  },
  {
   "cell_type": "code",
   "execution_count": null,
   "metadata": {
    "colab": {
     "base_uri": "https://localhost:8080/"
    },
    "id": "luU8mZTsHW9x",
    "outputId": "872b015e-3a08-4f1b-eec0-dc962bfff093"
   },
   "outputs": [
    {
     "name": "stdout",
     "output_type": "stream",
     "text": [
      "Looking in indexes: https://pypi.org/simple, https://us-python.pkg.dev/colab-wheels/public/simple/\n",
      "Collecting yfinance\n",
      "  Downloading yfinance-0.1.74-py2.py3-none-any.whl (27 kB)\n",
      "Requirement already satisfied: numpy>=1.15 in /usr/local/lib/python3.7/dist-packages (from yfinance) (1.21.6)\n",
      "Requirement already satisfied: multitasking>=0.0.7 in /usr/local/lib/python3.7/dist-packages (from yfinance) (0.0.11)\n",
      "Requirement already satisfied: pandas>=0.24.0 in /usr/local/lib/python3.7/dist-packages (from yfinance) (1.3.5)\n",
      "Requirement already satisfied: lxml>=4.5.1 in /usr/local/lib/python3.7/dist-packages (from yfinance) (4.9.1)\n",
      "Collecting requests>=2.26\n",
      "  Downloading requests-2.28.1-py3-none-any.whl (62 kB)\n",
      "\u001b[K     |████████████████████████████████| 62 kB 1.3 MB/s \n",
      "\u001b[?25hRequirement already satisfied: python-dateutil>=2.7.3 in /usr/local/lib/python3.7/dist-packages (from pandas>=0.24.0->yfinance) (2.8.2)\n",
      "Requirement already satisfied: pytz>=2017.3 in /usr/local/lib/python3.7/dist-packages (from pandas>=0.24.0->yfinance) (2022.2.1)\n",
      "Requirement already satisfied: six>=1.5 in /usr/local/lib/python3.7/dist-packages (from python-dateutil>=2.7.3->pandas>=0.24.0->yfinance) (1.15.0)\n",
      "Requirement already satisfied: urllib3<1.27,>=1.21.1 in /usr/local/lib/python3.7/dist-packages (from requests>=2.26->yfinance) (1.24.3)\n",
      "Requirement already satisfied: certifi>=2017.4.17 in /usr/local/lib/python3.7/dist-packages (from requests>=2.26->yfinance) (2022.6.15)\n",
      "Requirement already satisfied: charset-normalizer<3,>=2 in /usr/local/lib/python3.7/dist-packages (from requests>=2.26->yfinance) (2.1.0)\n",
      "Requirement already satisfied: idna<4,>=2.5 in /usr/local/lib/python3.7/dist-packages (from requests>=2.26->yfinance) (2.10)\n",
      "Installing collected packages: requests, yfinance\n",
      "  Attempting uninstall: requests\n",
      "    Found existing installation: requests 2.23.0\n",
      "    Uninstalling requests-2.23.0:\n",
      "      Successfully uninstalled requests-2.23.0\n",
      "Successfully installed requests-2.28.1 yfinance-0.1.74\n"
     ]
    }
   ],
   "source": [
    "!pip install yfinance"
   ]
  },
  {
   "cell_type": "code",
   "execution_count": 139,
   "metadata": {
    "colab": {
     "base_uri": "https://localhost:8080/",
     "height": 492
    },
    "id": "mWZ-nirTZHrE",
    "outputId": "8353a286-7749-4bcd-8aa8-58255366fab6"
   },
   "outputs": [
    {
     "name": "stdout",
     "output_type": "stream",
     "text": [
      "{'zip': '95014', 'sector': 'Technology', 'fullTimeEmployees': 154000, 'longBusinessSummary': 'Apple Inc. designs, manufactures, and markets smartphones, personal computers, tablets, wearables, and accessories worldwide. It also sells various related services. In addition, the company offers iPhone, a line of smartphones; Mac, a line of personal computers; iPad, a line of multi-purpose tablets; AirPods Max, an over-ear wireless headphone; and wearables, home, and accessories comprising AirPods, Apple TV, Apple Watch, Beats products, HomePod, and iPod touch. Further, it provides AppleCare support services; cloud services store services; and operates various platforms, including the App Store that allow customers to discover and download applications and digital content, such as books, music, video, games, and podcasts. Additionally, the company offers various services, such as Apple Arcade, a game subscription service; Apple Music, which offers users a curated listening experience with on-demand radio stations; Apple News+, a subscription news and magazine service; Apple TV+, which offers exclusive original content; Apple Card, a co-branded credit card; and Apple Pay, a cashless payment service, as well as licenses its intellectual property. The company serves consumers, and small and mid-sized businesses; and the education, enterprise, and government markets. It distributes third-party applications for its products through the App Store. The company also sells its products through its retail and online stores, and direct sales force; and third-party cellular network carriers, wholesalers, retailers, and resellers. Apple Inc. was incorporated in 1977 and is headquartered in Cupertino, California.', 'city': 'Cupertino', 'phone': '408 996 1010', 'state': 'CA', 'country': 'United States', 'companyOfficers': [], 'website': 'https://www.apple.com', 'maxAge': 1, 'address1': 'One Apple Park Way', 'industry': 'Consumer Electronics', 'ebitdaMargins': 0.3343, 'profitMargins': 0.25709, 'grossMargins': 0.43313998, 'operatingCashflow': 118224003072, 'revenueGrowth': 0.019, 'operatingMargins': 0.30533, 'ebitda': 129556996096, 'targetLowPrice': 136, 'recommendationKey': 'buy', 'grossProfits': 152836000000, 'freeCashflow': 83344621568, 'targetMedianPrice': 185, 'currentPrice': 171.52, 'earningsGrowth': -0.077, 'currentRatio': 0.865, 'returnOnAssets': 0.22204, 'numberOfAnalystOpinions': 44, 'targetMeanPrice': 183.76, 'debtToEquity': 205.984, 'returnOnEquity': 1.62816, 'targetHighPrice': 220, 'totalCash': 48230998016, 'totalDebt': 119691001856, 'totalRevenue': 387541991424, 'totalCashPerShare': 3.001, 'financialCurrency': 'USD', 'revenuePerShare': 23.732, 'quickRatio': 0.697, 'recommendationMean': 1.9, 'exchange': 'NMS', 'shortName': 'Apple Inc.', 'longName': 'Apple Inc.', 'exchangeTimezoneName': 'America/New_York', 'exchangeTimezoneShortName': 'EDT', 'isEsgPopulated': False, 'gmtOffSetMilliseconds': '-14400000', 'quoteType': 'EQUITY', 'symbol': 'AAPL', 'messageBoardId': 'finmb_24937', 'market': 'us_market', 'annualHoldingsTurnover': None, 'enterpriseToRevenue': 7.297, 'beta3Year': None, 'enterpriseToEbitda': 21.828, '52WeekChange': 0.14568162, 'morningStarRiskRating': None, 'forwardEps': 6.44, 'revenueQuarterlyGrowth': None, 'sharesOutstanding': 16070800384, 'fundInceptionDate': None, 'annualReportExpenseRatio': None, 'totalAssets': None, 'bookValue': 3.61, 'sharesShort': 107535584, 'sharesPercentSharesOut': 0.0067000003, 'fundFamily': None, 'lastFiscalYearEnd': 1632528000, 'heldPercentInstitutions': 0.59714, 'netIncomeToCommon': 99632996352, 'trailingEps': 6.05, 'lastDividendValue': 0.23, 'SandP52WeekChange': -0.056043804, 'priceToBook': 47.512466, 'heldPercentInsiders': 0.0007, 'nextFiscalYearEnd': 1695600000, 'yield': None, 'mostRecentQuarter': 1656115200, 'shortRatio': 1.47, 'sharesShortPreviousMonthDate': 1656547200, 'floatShares': 16053234880, 'beta': 1.230174, 'enterpriseValue': 2827915362304, 'priceHint': 2, 'threeYearAverageReturn': None, 'lastSplitDate': 1598832000, 'lastSplitFactor': '4:1', 'legalType': None, 'lastDividendDate': 1659657600, 'morningStarOverallRating': None, 'earningsQuarterlyGrowth': -0.106, 'priceToSalesTrailing12Months': 7.1126842, 'dateShortInterest': 1659052800, 'pegRatio': 3.01, 'ytdReturn': None, 'forwardPE': 26.633541, 'lastCapGain': None, 'shortPercentOfFloat': 0.0067000003, 'sharesShortPriorMonth': 112994371, 'impliedSharesOutstanding': 0, 'category': None, 'fiveYearAverageReturn': None, 'previousClose': 174.15, 'regularMarketOpen': 173.03, 'twoHundredDayAverage': 160.461, 'trailingAnnualDividendYield': 0.005110537, 'payoutRatio': 0.1471, 'volume24Hr': None, 'regularMarketDayHigh': 173.74, 'navPrice': None, 'averageDailyVolume10Day': 64119090, 'regularMarketPreviousClose': 174.15, 'fiftyDayAverage': 151.3188, 'trailingAnnualDividendRate': 0.89, 'open': 173.03, 'toCurrency': None, 'averageVolume10days': 64119090, 'expireDate': None, 'algorithm': None, 'dividendRate': 0.92, 'exDividendDate': 1659657600, 'circulatingSupply': None, 'startDate': None, 'regularMarketDayLow': 171.3101, 'currency': 'USD', 'trailingPE': 28.350412, 'regularMarketVolume': 70346295, 'lastMarket': None, 'maxSupply': None, 'openInterest': None, 'marketCap': 2756463820800, 'volumeAllCurrencies': None, 'strikePrice': None, 'averageVolume': 76763275, 'dayLow': 171.3101, 'ask': 170.75, 'askSize': 900, 'volume': 70346295, 'fiftyTwoWeekHigh': 182.94, 'fromCurrency': None, 'fiveYearAvgDividendYield': 1.05, 'fiftyTwoWeekLow': 129.04, 'bid': 170.71, 'tradeable': False, 'dividendYield': 0.0054, 'bidSize': 900, 'dayHigh': 173.74, 'coinMarketCapLink': None, 'regularMarketPrice': 171.52, 'preMarketPrice': None, 'logo_url': 'https://logo.clearbit.com/apple.com', 'trailingPegRatio': 3.1143}\n"
     ]
    },
    {
     "data": {
      "text/html": [
       "\n",
       "  <div id=\"df-9e6405b0-127b-4dbe-a218-6d8cbf5c2b0b\">\n",
       "    <div class=\"colab-df-container\">\n",
       "      <div>\n",
       "<style scoped>\n",
       "    .dataframe tbody tr th:only-of-type {\n",
       "        vertical-align: middle;\n",
       "    }\n",
       "\n",
       "    .dataframe tbody tr th {\n",
       "        vertical-align: top;\n",
       "    }\n",
       "\n",
       "    .dataframe thead th {\n",
       "        text-align: right;\n",
       "    }\n",
       "</style>\n",
       "<table border=\"1\" class=\"dataframe\">\n",
       "  <thead>\n",
       "    <tr style=\"text-align: right;\">\n",
       "      <th></th>\n",
       "      <th>Open</th>\n",
       "      <th>High</th>\n",
       "      <th>Low</th>\n",
       "      <th>Close</th>\n",
       "      <th>Volume</th>\n",
       "      <th>Dividends</th>\n",
       "      <th>Stock Splits</th>\n",
       "    </tr>\n",
       "    <tr>\n",
       "      <th>Date</th>\n",
       "      <th></th>\n",
       "      <th></th>\n",
       "      <th></th>\n",
       "      <th></th>\n",
       "      <th></th>\n",
       "      <th></th>\n",
       "      <th></th>\n",
       "    </tr>\n",
       "  </thead>\n",
       "  <tbody>\n",
       "    <tr>\n",
       "      <th>2016-01-04</th>\n",
       "      <td>23.523350</td>\n",
       "      <td>24.156081</td>\n",
       "      <td>23.383508</td>\n",
       "      <td>24.151495</td>\n",
       "      <td>270597600</td>\n",
       "      <td>0.0</td>\n",
       "      <td>0.0</td>\n",
       "    </tr>\n",
       "    <tr>\n",
       "      <th>2016-01-05</th>\n",
       "      <td>24.243195</td>\n",
       "      <td>24.266119</td>\n",
       "      <td>23.477500</td>\n",
       "      <td>23.546274</td>\n",
       "      <td>223164000</td>\n",
       "      <td>0.0</td>\n",
       "      <td>0.0</td>\n",
       "    </tr>\n",
       "    <tr>\n",
       "      <th>2016-01-06</th>\n",
       "      <td>23.053389</td>\n",
       "      <td>23.468333</td>\n",
       "      <td>22.895207</td>\n",
       "      <td>23.085484</td>\n",
       "      <td>273829600</td>\n",
       "      <td>0.0</td>\n",
       "      <td>0.0</td>\n",
       "    </tr>\n",
       "    <tr>\n",
       "      <th>2016-01-07</th>\n",
       "      <td>22.622400</td>\n",
       "      <td>22.954812</td>\n",
       "      <td>22.106587</td>\n",
       "      <td>22.111172</td>\n",
       "      <td>324377600</td>\n",
       "      <td>0.0</td>\n",
       "      <td>0.0</td>\n",
       "    </tr>\n",
       "    <tr>\n",
       "      <th>2016-01-08</th>\n",
       "      <td>22.592595</td>\n",
       "      <td>22.720974</td>\n",
       "      <td>22.182237</td>\n",
       "      <td>22.228086</td>\n",
       "      <td>283192000</td>\n",
       "      <td>0.0</td>\n",
       "      <td>0.0</td>\n",
       "    </tr>\n",
       "    <tr>\n",
       "      <th>...</th>\n",
       "      <td>...</td>\n",
       "      <td>...</td>\n",
       "      <td>...</td>\n",
       "      <td>...</td>\n",
       "      <td>...</td>\n",
       "      <td>...</td>\n",
       "      <td>...</td>\n",
       "    </tr>\n",
       "    <tr>\n",
       "      <th>2022-01-24</th>\n",
       "      <td>159.360567</td>\n",
       "      <td>161.631170</td>\n",
       "      <td>154.062483</td>\n",
       "      <td>160.953964</td>\n",
       "      <td>162294600</td>\n",
       "      <td>0.0</td>\n",
       "      <td>0.0</td>\n",
       "    </tr>\n",
       "    <tr>\n",
       "      <th>2022-01-25</th>\n",
       "      <td>158.324830</td>\n",
       "      <td>162.089251</td>\n",
       "      <td>156.372916</td>\n",
       "      <td>159.121536</td>\n",
       "      <td>115798400</td>\n",
       "      <td>0.0</td>\n",
       "      <td>0.0</td>\n",
       "    </tr>\n",
       "    <tr>\n",
       "      <th>2022-01-26</th>\n",
       "      <td>162.826218</td>\n",
       "      <td>163.712550</td>\n",
       "      <td>157.169633</td>\n",
       "      <td>159.031921</td>\n",
       "      <td>108275300</td>\n",
       "      <td>0.0</td>\n",
       "      <td>0.0</td>\n",
       "    </tr>\n",
       "    <tr>\n",
       "      <th>2022-01-27</th>\n",
       "      <td>161.780543</td>\n",
       "      <td>163.164814</td>\n",
       "      <td>157.627729</td>\n",
       "      <td>158.563858</td>\n",
       "      <td>121954600</td>\n",
       "      <td>0.0</td>\n",
       "      <td>0.0</td>\n",
       "    </tr>\n",
       "    <tr>\n",
       "      <th>2022-01-28</th>\n",
       "      <td>165.027126</td>\n",
       "      <td>169.648004</td>\n",
       "      <td>162.129114</td>\n",
       "      <td>169.628082</td>\n",
       "      <td>179935700</td>\n",
       "      <td>0.0</td>\n",
       "      <td>0.0</td>\n",
       "    </tr>\n",
       "  </tbody>\n",
       "</table>\n",
       "<p>1530 rows × 7 columns</p>\n",
       "</div>\n",
       "      <button class=\"colab-df-convert\" onclick=\"convertToInteractive('df-9e6405b0-127b-4dbe-a218-6d8cbf5c2b0b')\"\n",
       "              title=\"Convert this dataframe to an interactive table.\"\n",
       "              style=\"display:none;\">\n",
       "        \n",
       "  <svg xmlns=\"http://www.w3.org/2000/svg\" height=\"24px\"viewBox=\"0 0 24 24\"\n",
       "       width=\"24px\">\n",
       "    <path d=\"M0 0h24v24H0V0z\" fill=\"none\"/>\n",
       "    <path d=\"M18.56 5.44l.94 2.06.94-2.06 2.06-.94-2.06-.94-.94-2.06-.94 2.06-2.06.94zm-11 1L8.5 8.5l.94-2.06 2.06-.94-2.06-.94L8.5 2.5l-.94 2.06-2.06.94zm10 10l.94 2.06.94-2.06 2.06-.94-2.06-.94-.94-2.06-.94 2.06-2.06.94z\"/><path d=\"M17.41 7.96l-1.37-1.37c-.4-.4-.92-.59-1.43-.59-.52 0-1.04.2-1.43.59L10.3 9.45l-7.72 7.72c-.78.78-.78 2.05 0 2.83L4 21.41c.39.39.9.59 1.41.59.51 0 1.02-.2 1.41-.59l7.78-7.78 2.81-2.81c.8-.78.8-2.07 0-2.86zM5.41 20L4 18.59l7.72-7.72 1.47 1.35L5.41 20z\"/>\n",
       "  </svg>\n",
       "      </button>\n",
       "      \n",
       "  <style>\n",
       "    .colab-df-container {\n",
       "      display:flex;\n",
       "      flex-wrap:wrap;\n",
       "      gap: 12px;\n",
       "    }\n",
       "\n",
       "    .colab-df-convert {\n",
       "      background-color: #E8F0FE;\n",
       "      border: none;\n",
       "      border-radius: 50%;\n",
       "      cursor: pointer;\n",
       "      display: none;\n",
       "      fill: #1967D2;\n",
       "      height: 32px;\n",
       "      padding: 0 0 0 0;\n",
       "      width: 32px;\n",
       "    }\n",
       "\n",
       "    .colab-df-convert:hover {\n",
       "      background-color: #E2EBFA;\n",
       "      box-shadow: 0px 1px 2px rgba(60, 64, 67, 0.3), 0px 1px 3px 1px rgba(60, 64, 67, 0.15);\n",
       "      fill: #174EA6;\n",
       "    }\n",
       "\n",
       "    [theme=dark] .colab-df-convert {\n",
       "      background-color: #3B4455;\n",
       "      fill: #D2E3FC;\n",
       "    }\n",
       "\n",
       "    [theme=dark] .colab-df-convert:hover {\n",
       "      background-color: #434B5C;\n",
       "      box-shadow: 0px 1px 3px 1px rgba(0, 0, 0, 0.15);\n",
       "      filter: drop-shadow(0px 1px 2px rgba(0, 0, 0, 0.3));\n",
       "      fill: #FFFFFF;\n",
       "    }\n",
       "  </style>\n",
       "\n",
       "      <script>\n",
       "        const buttonEl =\n",
       "          document.querySelector('#df-9e6405b0-127b-4dbe-a218-6d8cbf5c2b0b button.colab-df-convert');\n",
       "        buttonEl.style.display =\n",
       "          google.colab.kernel.accessAllowed ? 'block' : 'none';\n",
       "\n",
       "        async function convertToInteractive(key) {\n",
       "          const element = document.querySelector('#df-9e6405b0-127b-4dbe-a218-6d8cbf5c2b0b');\n",
       "          const dataTable =\n",
       "            await google.colab.kernel.invokeFunction('convertToInteractive',\n",
       "                                                     [key], {});\n",
       "          if (!dataTable) return;\n",
       "\n",
       "          const docLinkHtml = 'Like what you see? Visit the ' +\n",
       "            '<a target=\"_blank\" href=https://colab.research.google.com/notebooks/data_table.ipynb>data table notebook</a>'\n",
       "            + ' to learn more about interactive tables.';\n",
       "          element.innerHTML = '';\n",
       "          dataTable['output_type'] = 'display_data';\n",
       "          await google.colab.output.renderOutput(dataTable, element);\n",
       "          const docLink = document.createElement('div');\n",
       "          docLink.innerHTML = docLinkHtml;\n",
       "          element.appendChild(docLink);\n",
       "        }\n",
       "      </script>\n",
       "    </div>\n",
       "  </div>\n",
       "  "
      ],
      "text/plain": [
       "                  Open        High         Low       Close     Volume  \\\n",
       "Date                                                                    \n",
       "2016-01-04   23.523350   24.156081   23.383508   24.151495  270597600   \n",
       "2016-01-05   24.243195   24.266119   23.477500   23.546274  223164000   \n",
       "2016-01-06   23.053389   23.468333   22.895207   23.085484  273829600   \n",
       "2016-01-07   22.622400   22.954812   22.106587   22.111172  324377600   \n",
       "2016-01-08   22.592595   22.720974   22.182237   22.228086  283192000   \n",
       "...                ...         ...         ...         ...        ...   \n",
       "2022-01-24  159.360567  161.631170  154.062483  160.953964  162294600   \n",
       "2022-01-25  158.324830  162.089251  156.372916  159.121536  115798400   \n",
       "2022-01-26  162.826218  163.712550  157.169633  159.031921  108275300   \n",
       "2022-01-27  161.780543  163.164814  157.627729  158.563858  121954600   \n",
       "2022-01-28  165.027126  169.648004  162.129114  169.628082  179935700   \n",
       "\n",
       "            Dividends  Stock Splits  \n",
       "Date                                 \n",
       "2016-01-04        0.0           0.0  \n",
       "2016-01-05        0.0           0.0  \n",
       "2016-01-06        0.0           0.0  \n",
       "2016-01-07        0.0           0.0  \n",
       "2016-01-08        0.0           0.0  \n",
       "...               ...           ...  \n",
       "2022-01-24        0.0           0.0  \n",
       "2022-01-25        0.0           0.0  \n",
       "2022-01-26        0.0           0.0  \n",
       "2022-01-27        0.0           0.0  \n",
       "2022-01-28        0.0           0.0  \n",
       "\n",
       "[1530 rows x 7 columns]"
      ]
     },
     "execution_count": 139,
     "metadata": {},
     "output_type": "execute_result"
    }
   ],
   "source": [
    "import yfinance as yf\n",
    "\n",
    "ex = yf.Ticker(\"AAPL\")\n",
    "\n",
    "# get ex info\n",
    "print(ex.info)\n",
    "\n",
    "# get historical market data\n",
    "ex_table = ex.history(start=\"2016-01-01\",  end=\"2022-01-31\")\n",
    "ex_table"
   ]
  },
  {
   "cell_type": "markdown",
   "metadata": {
    "id": "NkFztSYhJyVA"
   },
   "source": [
    "We will create a Series named \"s_ex\" whose values are Apple's daily closing prices, which are of course indexed by dates:"
   ]
  },
  {
   "cell_type": "code",
   "execution_count": 140,
   "metadata": {
    "id": "QDJbOpCeHW91"
   },
   "outputs": [],
   "source": [
    "sr_ex = ex_table['Close']['2020']"
   ]
  },
  {
   "cell_type": "code",
   "execution_count": 141,
   "metadata": {
    "colab": {
     "base_uri": "https://localhost:8080/"
    },
    "id": "SXfgCQJOHW91",
    "outputId": "3ab4e1eb-4048-4840-f687-be1046673b3d"
   },
   "outputs": [
    {
     "name": "stdout",
     "output_type": "stream",
     "text": [
      "Date\n",
      "2020-01-02     73.683556\n",
      "2020-01-03     72.967216\n",
      "2020-01-06     73.548622\n",
      "2020-01-07     73.202713\n",
      "2020-01-08     74.380287\n",
      "                 ...    \n",
      "2020-12-24    130.620911\n",
      "2020-12-28    135.292679\n",
      "2020-12-29    133.491257\n",
      "2020-12-30    132.352997\n",
      "2020-12-31    131.333542\n",
      "Name: Close, Length: 253, dtype: float64\n"
     ]
    }
   ],
   "source": [
    "print(sr_ex)"
   ]
  },
  {
   "cell_type": "markdown",
   "metadata": {
    "id": "waUEgBhzKEcA"
   },
   "source": [
    "Recall that we can fetch a specific data point using series['yyyy-mm-dd']. We can also fetch the data in a specific month using series['yyyy-mm']."
   ]
  },
  {
   "cell_type": "code",
   "execution_count": 142,
   "metadata": {
    "colab": {
     "base_uri": "https://localhost:8080/"
    },
    "id": "2gS50G0zHW92",
    "outputId": "7684ee5d-0152-4425-e1c6-b30009040eee"
   },
   "outputs": [
    {
     "name": "stdout",
     "output_type": "stream",
     "text": [
      "Date\n",
      "2020-02-03    75.722229\n",
      "2020-02-04    78.222092\n",
      "2020-02-05    78.859940\n",
      "2020-02-06    79.782372\n",
      "2020-02-07    78.697906\n",
      "2020-02-10    79.071678\n",
      "2020-02-11    78.594612\n",
      "2020-02-12    80.461067\n",
      "2020-02-13    79.888084\n",
      "2020-02-14    79.907776\n",
      "2020-02-18    78.444611\n",
      "2020-02-19    79.580719\n",
      "2020-02-20    78.764297\n",
      "2020-02-21    76.981461\n",
      "2020-02-24    73.324814\n",
      "2020-02-25    70.841133\n",
      "2020-02-26    71.964951\n",
      "2020-02-27    67.260719\n",
      "2020-02-28    67.221375\n",
      "Name: Close, dtype: float64\n"
     ]
    }
   ],
   "source": [
    "print(sr_ex['2020-2'])"
   ]
  },
  {
   "cell_type": "code",
   "execution_count": 143,
   "metadata": {
    "colab": {
     "base_uri": "https://localhost:8080/"
    },
    "id": "vpvxGwXtHW92",
    "outputId": "eb5ca4de-025f-4c38-e5f7-9032344b2b58"
   },
   "outputs": [
    {
     "data": {
      "text/plain": [
       "Date\n",
       "2020-02-03    75.722229\n",
       "2020-02-04    78.222092\n",
       "2020-02-05    78.859940\n",
       "2020-02-06    79.782372\n",
       "2020-02-07    78.697906\n",
       "                ...    \n",
       "2020-04-24    69.584557\n",
       "2020-04-27    69.633743\n",
       "2020-04-28    68.505020\n",
       "2020-04-29    70.755081\n",
       "2020-04-30    72.247734\n",
       "Name: Close, Length: 62, dtype: float64"
      ]
     },
     "execution_count": 143,
     "metadata": {},
     "output_type": "execute_result"
    }
   ],
   "source": [
    "sr_ex['2020-2':'2020-4']"
   ]
  },
  {
   "cell_type": "markdown",
   "metadata": {
    "id": "lWwoD39pKNKb"
   },
   "source": [
    ".head(N) and .tail(N) are methods for quickly accessing the first or last N elements."
   ]
  },
  {
   "cell_type": "code",
   "execution_count": 144,
   "metadata": {
    "colab": {
     "base_uri": "https://localhost:8080/"
    },
    "id": "1eU218ALHW93",
    "outputId": "ecdf3345-88cd-4b8c-9a2f-7f0b7a9fb338"
   },
   "outputs": [
    {
     "name": "stdout",
     "output_type": "stream",
     "text": [
      "Date\n",
      "2020-01-02    73.683556\n",
      "2020-01-03    72.967216\n",
      "2020-01-06    73.548622\n",
      "2020-01-07    73.202713\n",
      "2020-01-08    74.380287\n",
      "Name: Close, dtype: float64\n",
      "Date\n",
      "2020-12-17    127.384331\n",
      "2020-12-18    125.365189\n",
      "2020-12-21    126.919128\n",
      "2020-12-22    130.531815\n",
      "2020-12-23    129.621216\n",
      "2020-12-24    130.620911\n",
      "2020-12-28    135.292679\n",
      "2020-12-29    133.491257\n",
      "2020-12-30    132.352997\n",
      "2020-12-31    131.333542\n",
      "Name: Close, dtype: float64\n"
     ]
    }
   ],
   "source": [
    "print(sr_ex.head(5)) #Acces 5 first elements beginning from the head\n",
    "print(sr_ex.tail(10)) #Acces 10 last elements"
   ]
  },
  {
   "cell_type": "markdown",
   "metadata": {
    "id": "IxhKxtj-KQ66"
   },
   "source": [
    "# Resampling\n",
    "**_series.resample(freq)_** is a class called \"DatetimeIndexResampler\" which groups data in a Series object into regular time intervals. The argument \"freq\" determines the length of each interval.\n",
    "\n",
    "**_series.resample.mean()_** is a complete statement that groups data into intervals, and then compute the mean of each interval. For example, if we want to aggregate the daily data into monthly data by mean:"
   ]
  },
  {
   "cell_type": "code",
   "execution_count": 146,
   "metadata": {
    "colab": {
     "base_uri": "https://localhost:8080/"
    },
    "id": "rAV8NkHkHW93",
    "outputId": "1428097f-662b-4a87-cb19-7cf719f5b6af"
   },
   "outputs": [
    {
     "name": "stdout",
     "output_type": "stream",
     "text": [
      "Date\n",
      "2020-01-31     76.521044\n",
      "2020-02-29     76.504833\n",
      "2020-03-31     64.537073\n",
      "2020-04-30     66.981913\n",
      "2020-05-31     76.384835\n",
      "2020-06-30     85.266707\n",
      "2020-07-31     94.256444\n",
      "2020-08-31    115.863197\n",
      "2020-09-30    113.752087\n",
      "2020-10-31    115.024673\n",
      "2020-11-30    115.593087\n",
      "2020-12-31    125.989193\n",
      "Freq: M, Name: Close, dtype: float64\n"
     ]
    }
   ],
   "source": [
    "by_month = sr_ex.resample('M').mean() #Resmaple\n",
    "print(by_month)"
   ]
  },
  {
   "cell_type": "markdown",
   "metadata": {
    "id": "QDPfVzBEKV6Q"
   },
   "source": [
    "We can also aggregate the data by week:"
   ]
  },
  {
   "cell_type": "code",
   "execution_count": 147,
   "metadata": {
    "colab": {
     "base_uri": "https://localhost:8080/"
    },
    "id": "aAP3tKkBHW94",
    "outputId": "7dc5db57-872c-43ea-99e3-ce9f2b11cfe5"
   },
   "outputs": [
    {
     "name": "stdout",
     "output_type": "stream",
     "text": [
      "Date\n",
      "2020-01-05    73.325386\n",
      "2020-01-12    74.644745\n",
      "2020-01-19    77.275128\n",
      "2020-01-26    78.001907\n",
      "2020-02-02    77.736832\n",
      "Freq: W-SUN, Name: Close, dtype: float64\n"
     ]
    }
   ],
   "source": [
    "by_week = sr_ex.resample('W').mean() #resample and then obtain the mean\n",
    "print(by_week.head())"
   ]
  },
  {
   "cell_type": "markdown",
   "metadata": {
    "id": "o_MXSVsILoBS"
   },
   "source": [
    "We can also aggregate the data by month with max:"
   ]
  },
  {
   "cell_type": "code",
   "execution_count": 149,
   "metadata": {
    "colab": {
     "base_uri": "https://localhost:8080/"
    },
    "id": "gn0wqXBTHW95",
    "outputId": "93dcd59a-d175-4824-cccf-139b8ddf77ad"
   },
   "outputs": [
    {
     "data": {
      "text/plain": [
       "Date\n",
       "2020-01-31     79.568916\n",
       "2020-02-29     80.461067\n",
       "2020-03-31     74.446152\n",
       "2020-04-30     72.247734\n",
       "2020-05-31     78.713684\n",
       "2020-06-30     90.376610\n",
       "2020-07-31    104.803627\n",
       "2020-08-31    127.500862\n",
       "2020-09-30    132.579590\n",
       "2020-10-31    122.916229\n",
       "2020-11-30    119.070206\n",
       "2020-12-31    135.292679\n",
       "Freq: M, Name: Close, dtype: float64"
      ]
     },
     "execution_count": 149,
     "metadata": {},
     "output_type": "execute_result"
    }
   ],
   "source": [
    "sr_ex.resample('M').max() #Resample and the obtain the maximun value"
   ]
  },
  {
   "cell_type": "markdown",
   "metadata": {
    "id": "Z8r46UFlLdAh"
   },
   "source": [
    "We can choose almost any frequency by using the format 'nf', where 'n' is an integer and 'f' is M for month, W for week and D for day."
   ]
  },
  {
   "cell_type": "code",
   "execution_count": 150,
   "metadata": {
    "colab": {
     "base_uri": "https://localhost:8080/"
    },
    "id": "kdVB_-JFHW96",
    "outputId": "88529804-f6b9-4782-b100-843c0a7828f7"
   },
   "outputs": [
    {
     "name": "stdout",
     "output_type": "stream",
     "text": [
      "Date\n",
      "2020-01-02     73.325386\n",
      "2020-01-05     73.375668\n",
      "2020-01-08     75.490796\n",
      "2020-01-11     77.758408\n",
      "2020-01-14     76.808192\n",
      "                 ...    \n",
      "2020-12-18    125.365189\n",
      "2020-12-21    129.024053\n",
      "2020-12-24    130.620911\n",
      "2020-12-27    134.391968\n",
      "2020-12-30    131.843269\n",
      "Freq: 3D, Name: Close, Length: 122, dtype: float64\n",
      "Date\n",
      "2020-01-05     73.325386\n",
      "2020-01-19     75.959937\n",
      "2020-02-02     77.854643\n",
      "2020-02-16     78.920776\n",
      "2020-03-01     73.820453\n",
      "2020-03-15     69.492585\n",
      "2020-03-29     59.969806\n",
      "2020-04-12     62.633011\n",
      "2020-04-26     68.697319\n",
      "2020-05-10     72.257811\n",
      "2020-05-24     77.285776\n",
      "2020-06-07     79.318882\n",
      "2020-06-21     85.144312\n",
      "2020-07-05     89.279632\n",
      "2020-07-19     94.364688\n",
      "2020-08-02     95.043509\n",
      "2020-08-16    110.457963\n",
      "2020-08-30    120.104664\n",
      "2020-09-13    119.896012\n",
      "2020-09-27    109.648389\n",
      "2020-10-11    113.761733\n",
      "2020-10-25    117.340534\n",
      "2020-11-08    112.552808\n",
      "2020-11-22    117.184676\n",
      "2020-12-06    117.858270\n",
      "2020-12-20    123.562798\n",
      "2021-01-03    131.270443\n",
      "Freq: 2W-SUN, Name: Close, dtype: float64\n",
      "Date\n",
      "2020-01-31     76.521044\n",
      "2020-03-31     70.083108\n",
      "2020-05-31     71.568704\n",
      "2020-07-31     89.761575\n",
      "2020-09-30    114.807642\n",
      "2020-11-30    115.295346\n",
      "2021-01-31    125.989193\n",
      "Freq: 2M, Name: Close, dtype: float64\n"
     ]
    }
   ],
   "source": [
    "three_day = sr_ex.resample('3D').mean()\n",
    "two_week = sr_ex.resample('2W').mean()\n",
    "two_month = sr_ex.resample('2M').mean()\n",
    "#Using different frequency formats such as 3Days, 2Weeks, 2Months\n",
    "\n",
    "print(three_day)\n",
    "print(two_week)\n",
    "print(two_month )"
   ]
  },
  {
   "cell_type": "markdown",
   "metadata": {
    "id": "iy4RqsnwL-Bw"
   },
   "source": [
    "Besides the mean() method, other methods can also be used with the resampler:\n",
    "\n"
   ]
  },
  {
   "cell_type": "code",
   "execution_count": 151,
   "metadata": {
    "colab": {
     "base_uri": "https://localhost:8080/"
    },
    "id": "DNT8Fx9dHW96",
    "outputId": "5a2fcf0d-0e9f-457c-cf2b-993643570575"
   },
   "outputs": [
    {
     "name": "stdout",
     "output_type": "stream",
     "text": [
      "Date\n",
      "2020-01-05    0.506528\n",
      "2020-01-12    1.350272\n",
      "2020-01-19    0.741980\n",
      "2020-01-26    0.273719\n",
      "2020-02-02    1.829153\n",
      "2020-02-09    1.525695\n",
      "2020-02-16    0.742951\n",
      "2020-02-23    1.085317\n",
      "2020-03-01    2.773634\n",
      "2020-03-08    1.484151\n",
      "2020-03-15    3.510007\n",
      "2020-03-22    2.142726\n",
      "2020-03-29    3.053377\n",
      "2020-04-05    1.678652\n",
      "2020-04-12    0.935633\n",
      "2020-04-19    1.385868\n",
      "2020-04-26    1.280978\n",
      "2020-05-03    1.429750\n",
      "2020-05-10    1.650105\n",
      "2020-05-17    0.757167\n",
      "2020-05-24    0.639236\n",
      "2020-05-31    0.171767\n",
      "2020-06-07    0.970550\n",
      "2020-06-14    1.897286\n",
      "2020-06-21    0.941766\n",
      "2020-06-28    1.262323\n",
      "2020-07-05    0.325641\n",
      "2020-07-12    1.292494\n",
      "2020-07-19    0.827079\n",
      "2020-07-26    2.649243\n",
      "2020-08-02    5.149173\n",
      "2020-08-09    1.921801\n",
      "2020-08-16    2.258210\n",
      "2020-08-23    3.918861\n",
      "2020-08-30    0.749732\n",
      "2020-09-06    6.022050\n",
      "2020-09-13    2.327096\n",
      "2020-09-20    3.603778\n",
      "2020-09-27    2.203623\n",
      "2020-10-04    1.447832\n",
      "2020-10-11    1.478757\n",
      "2020-10-18    1.926573\n",
      "2020-10-25    0.957592\n",
      "2020-11-01    3.205538\n",
      "2020-11-08    4.669084\n",
      "2020-11-15    1.728753\n",
      "2020-11-22    1.142561\n",
      "2020-11-29    1.180563\n",
      "2020-12-06    1.666025\n",
      "2020-12-13    1.026019\n",
      "2020-12-20    2.743967\n",
      "2020-12-27    1.729463\n",
      "2021-01-03    1.696867\n",
      "Freq: W-SUN, Name: Close, dtype: float64\n",
      "Date\n",
      "2020-01-05     73.683556\n",
      "2020-01-12     76.131912\n",
      "2020-01-19     78.192657\n",
      "2020-01-26     78.315300\n",
      "2020-02-02     79.568916\n",
      "2020-02-09     79.782372\n",
      "2020-02-16     80.461067\n",
      "2020-02-23     79.580719\n",
      "2020-03-01     73.324814\n",
      "2020-03-08     74.446152\n",
      "2020-03-15     70.167343\n",
      "2020-03-22     62.180267\n",
      "2020-03-29     63.552437\n",
      "2020-04-05     62.659786\n",
      "2020-04-12     65.900841\n",
      "2020-04-19     70.587860\n",
      "2020-04-26     69.584557\n",
      "2020-05-03     72.247734\n",
      "2020-05-10     76.469864\n",
      "2020-05-17     77.673141\n",
      "2020-05-24     78.713684\n",
      "2020-05-31     78.472031\n",
      "2020-06-07     81.739136\n",
      "2020-06-14     87.001015\n",
      "2020-06-21     86.813606\n",
      "2020-06-28     90.376610\n",
      "2020-07-05     89.950035\n",
      "2020-07-12     94.605354\n",
      "2020-07-19     96.385605\n",
      "2020-07-26     97.009438\n",
      "2020-08-02    104.803627\n",
      "2020-08-09    112.341385\n",
      "2020-08-16    113.638222\n",
      "2020-08-23    122.886581\n",
      "2020-08-30    125.013412\n",
      "2020-09-06    132.579590\n",
      "2020-09-13    115.920677\n",
      "2020-09-20    114.161911\n",
      "2020-09-27    110.940788\n",
      "2020-10-04    115.397003\n",
      "2020-10-11    115.574844\n",
      "2020-10-18    122.916229\n",
      "2020-10-25    116.108414\n",
      "2020-11-01    115.209259\n",
      "2020-11-08    117.610275\n",
      "2020-11-15    118.268471\n",
      "2020-11-22    119.070206\n",
      "2020-11-29    115.398109\n",
      "2020-12-06    121.821777\n",
      "2020-12-13    123.108490\n",
      "2020-12-20    127.384331\n",
      "2020-12-27    130.620911\n",
      "2021-01-03    135.292679\n",
      "Freq: W-SUN, Name: Close, dtype: float64\n",
      "Date\n",
      "2020-01-05     72.967216\n",
      "2020-01-12     73.202713\n",
      "2020-01-19     76.379692\n",
      "2020-01-26     77.662758\n",
      "2020-02-02     75.793365\n",
      "2020-02-09     75.722229\n",
      "2020-02-16     78.594612\n",
      "2020-02-23     76.981461\n",
      "2020-03-01     67.221375\n",
      "2020-03-08     71.074745\n",
      "2020-03-15     61.041714\n",
      "2020-03-22     56.371929\n",
      "2020-03-29     55.174355\n",
      "2020-04-05     59.241673\n",
      "2020-04-12     63.795883\n",
      "2020-04-19     67.194321\n",
      "2020-04-26     65.994293\n",
      "2020-05-03     68.505020\n",
      "2020-05-10     72.090363\n",
      "2020-05-17     75.858353\n",
      "2020-05-24     77.212051\n",
      "2020-05-31     78.097252\n",
      "2020-06-07     79.359711\n",
      "2020-06-14     82.222412\n",
      "2020-06-21     84.572258\n",
      "2020-06-28     87.195808\n",
      "2020-07-05     89.205391\n",
      "2020-07-12     91.895493\n",
      "2020-07-19     94.168900\n",
      "2020-07-26     91.345650\n",
      "2020-08-02     91.974419\n",
      "2020-08-09    107.444427\n",
      "2020-08-16    108.070435\n",
      "2020-08-23    113.240524\n",
      "2020-08-30    123.318863\n",
      "2020-09-06    119.438202\n",
      "2020-09-13    110.664124\n",
      "2020-09-20    105.565666\n",
      "2020-09-27    105.842339\n",
      "2020-10-04    111.671967\n",
      "2020-10-11    111.810287\n",
      "2020-10-18    117.600395\n",
      "2020-10-25    113.667870\n",
      "2020-11-01    107.561592\n",
      "2020-11-08    107.472656\n",
      "2020-11-15    114.784470\n",
      "2020-11-22    116.140457\n",
      "2020-11-29    112.686127\n",
      "2020-12-06    117.832977\n",
      "2020-12-13    120.535065\n",
      "2020-12-20    120.535065\n",
      "2020-12-27    126.919128\n",
      "2021-01-03    131.333542\n",
      "Freq: W-SUN, Name: Close, dtype: float64\n"
     ]
    }
   ],
   "source": [
    "std = sr_ex.resample('W').std()\n",
    "max = sr_ex.resample('W').max()\n",
    "min = sr_ex.resample('W').min()\n",
    "#Probability functions\n",
    "\n",
    "print(std)\n",
    "print(max)\n",
    "print(min)"
   ]
  },
  {
   "cell_type": "markdown",
   "metadata": {
    "id": "uqln0s5DMI3I"
   },
   "source": [
    "Often we want to calculate monthly returns of a stock, based on prices on the last day of each month. To fetch those prices, we use the series.resample.agg() method:"
   ]
  },
  {
   "cell_type": "code",
   "execution_count": 152,
   "metadata": {
    "colab": {
     "base_uri": "https://localhost:8080/"
    },
    "id": "A6FSYvqbHW97",
    "outputId": "46a95fd8-cc80-4b2c-c6e1-e8b99b44291d"
   },
   "outputs": [
    {
     "name": "stdout",
     "output_type": "stream",
     "text": [
      "Date\n",
      "2020-01-31     75.930740\n",
      "2020-02-29     67.221375\n",
      "2020-03-31     62.531914\n",
      "2020-04-30     72.247734\n",
      "2020-05-31     78.395599\n",
      "2020-06-30     89.950035\n",
      "2020-07-31    104.803627\n",
      "2020-08-31    127.500862\n",
      "2020-09-30    114.428673\n",
      "2020-10-31    107.561592\n",
      "2020-11-30    117.832977\n",
      "2020-12-31    131.333542\n",
      "Freq: M, Name: Close, dtype: float64\n"
     ]
    }
   ],
   "source": [
    "last_day = sr_ex.resample('M').agg(lambda x: x[-1]) #Resample and use a lambda function to operate in the labeled array\n",
    "print(last_day)"
   ]
  },
  {
   "cell_type": "markdown",
   "metadata": {
    "id": "uwomY3aXMR46"
   },
   "source": [
    "Or directly calculate the monthly rates of return using the data for the first day and the last day:"
   ]
  },
  {
   "cell_type": "code",
   "execution_count": 153,
   "metadata": {
    "colab": {
     "base_uri": "https://localhost:8080/"
    },
    "id": "qK2NMJrNHW96",
    "outputId": "2f8de4ed-39c8-4fab-e98b-f1427244b9f5"
   },
   "outputs": [
    {
     "name": "stdout",
     "output_type": "stream",
     "text": [
      "Date\n",
      "2020-01-31    0.030498\n",
      "2020-02-29   -0.112264\n",
      "2020-03-31   -0.148991\n",
      "2020-04-30    0.219542\n",
      "2020-05-31    0.102849\n",
      "2020-06-30    0.133447\n",
      "2020-07-31    0.167340\n",
      "2020-08-31    0.186668\n",
      "2020-09-30   -0.136906\n",
      "2020-10-31   -0.067900\n",
      "2020-11-30    0.096400\n",
      "2020-12-31    0.081242\n",
      "Freq: M, Name: Close, dtype: float64\n"
     ]
    }
   ],
   "source": [
    "monthly_return = sr_ex.resample('M').agg(lambda x: x[-1]/x[0] - 1) #Same as above but with monhts\n",
    "print(monthly_return)"
   ]
  },
  {
   "cell_type": "markdown",
   "metadata": {
    "id": "_DYbMTFWMj8J"
   },
   "source": [
    "Series object also provides us some convenient methods to do some quick calculation."
   ]
  },
  {
   "cell_type": "code",
   "execution_count": 154,
   "metadata": {
    "colab": {
     "base_uri": "https://localhost:8080/"
    },
    "id": "1Mxc0HwvHW98",
    "outputId": "9110a834-5d2a-4472-80f3-8d0c5a207488"
   },
   "outputs": [
    {
     "name": "stdout",
     "output_type": "stream",
     "text": [
      "0.045993788721983835\n",
      "0.131088313465405\n",
      "0.2195424437159692\n"
     ]
    }
   ],
   "source": [
    "print(monthly_return.mean())\n",
    "print(monthly_return.std())\n",
    "print(monthly_return.max())"
   ]
  },
  {
   "cell_type": "markdown",
   "metadata": {
    "id": "mn59J5dqMpqX"
   },
   "source": [
    "Another two methods frequently used on Series are .diff() and .pct_change(). The former calculates the difference between consecutive elements, and the latter calculates the percentage change."
   ]
  },
  {
   "cell_type": "code",
   "execution_count": 155,
   "metadata": {
    "colab": {
     "base_uri": "https://localhost:8080/"
    },
    "id": "DupZTSqqHW99",
    "outputId": "6353e39b-b7a5-4231-9fb7-f88c05035e44"
   },
   "outputs": [
    {
     "name": "stdout",
     "output_type": "stream",
     "text": [
      "Date\n",
      "2020-01-31          NaN\n",
      "2020-02-29    -8.709366\n",
      "2020-03-31    -4.689461\n",
      "2020-04-30     9.715820\n",
      "2020-05-31     6.147865\n",
      "2020-06-30    11.554436\n",
      "2020-07-31    14.853592\n",
      "2020-08-31    22.697235\n",
      "2020-09-30   -13.072189\n",
      "2020-10-31    -6.867081\n",
      "2020-11-30    10.271385\n",
      "2020-12-31    13.500565\n",
      "Freq: M, Name: Close, dtype: float64\n",
      "Date\n",
      "2020-01-31         NaN\n",
      "2020-02-29   -0.114701\n",
      "2020-03-31   -0.069761\n",
      "2020-04-30    0.155374\n",
      "2020-05-31    0.085094\n",
      "2020-06-30    0.147386\n",
      "2020-07-31    0.165132\n",
      "2020-08-31    0.216569\n",
      "2020-09-30   -0.102526\n",
      "2020-10-31   -0.060012\n",
      "2020-11-30    0.095493\n",
      "2020-12-31    0.114574\n",
      "Freq: M, Name: Close, dtype: float64\n"
     ]
    }
   ],
   "source": [
    "print(last_day.diff()) #Consecutive differences between elements\n",
    "print(last_day.pct_change()) #Change of percentage"
   ]
  },
  {
   "cell_type": "markdown",
   "metadata": {
    "id": "RaMAOFepM6Io"
   },
   "source": [
    "Notice that we induced a NaN value while calculating percentage changes i.e. returns.\n",
    "\n",
    "When dealing with NaN values, we usually either removing the data point or fill it with a specific value. Here we fill it with 0:"
   ]
  },
  {
   "cell_type": "code",
   "execution_count": 156,
   "metadata": {
    "colab": {
     "base_uri": "https://localhost:8080/"
    },
    "id": "-xyLb3A3HW99",
    "outputId": "ed4f0cb1-81cd-4620-be3e-be462c944e04"
   },
   "outputs": [
    {
     "name": "stdout",
     "output_type": "stream",
     "text": [
      "Date\n",
      "2020-01-31    0.000000\n",
      "2020-02-29   -0.114701\n",
      "2020-03-31   -0.069761\n",
      "2020-04-30    0.155374\n",
      "2020-05-31    0.085094\n",
      "2020-06-30    0.147386\n",
      "2020-07-31    0.165132\n",
      "2020-08-31    0.216569\n",
      "2020-09-30   -0.102526\n",
      "2020-10-31   -0.060012\n",
      "2020-11-30    0.095493\n",
      "2020-12-31    0.114574\n",
      "Freq: M, Name: Close, dtype: float64\n"
     ]
    }
   ],
   "source": [
    "daily_return = last_day.pct_change()\n",
    "print(daily_return.fillna(0))"
   ]
  },
  {
   "cell_type": "markdown",
   "metadata": {
    "id": "BYS10Om1NQVC"
   },
   "source": [
    "Alternatively, we can fill a NaN with the next fitted value. This is called 'backward fill', or 'bfill' in short:"
   ]
  },
  {
   "cell_type": "code",
   "execution_count": 158,
   "metadata": {
    "colab": {
     "base_uri": "https://localhost:8080/"
    },
    "id": "J513kHeKHW9-",
    "outputId": "437e6419-8838-4559-a8f2-2e0335677b29"
   },
   "outputs": [
    {
     "name": "stdout",
     "output_type": "stream",
     "text": [
      "Date\n",
      "2020-01-31   -0.114701\n",
      "2020-02-29   -0.114701\n",
      "2020-03-31   -0.069761\n",
      "2020-04-30    0.155374\n",
      "2020-05-31    0.085094\n",
      "2020-06-30    0.147386\n",
      "2020-07-31    0.165132\n",
      "2020-08-31    0.216569\n",
      "2020-09-30   -0.102526\n",
      "2020-10-31   -0.060012\n",
      "2020-11-30    0.095493\n",
      "2020-12-31    0.114574\n",
      "Freq: M, Name: Close, dtype: float64\n"
     ]
    }
   ],
   "source": [
    "daily_return = last_day.pct_change()\n",
    "print(daily_return.fillna(method = 'bfill')) #Backward or fill forward methods"
   ]
  },
  {
   "cell_type": "markdown",
   "metadata": {
    "id": "bj8QUSgdNepf"
   },
   "source": [
    "As expected, since there is a 'backward fill' method, there must be a 'forward fill' method, or 'ffill' in short. However we can't use it here because the NaN is the first value.\n",
    "\n",
    "We can also simply remove NaN values by **_.dropna()_**"
   ]
  },
  {
   "cell_type": "code",
   "execution_count": 159,
   "metadata": {
    "colab": {
     "base_uri": "https://localhost:8080/"
    },
    "id": "WG5ux1lqHW9-",
    "outputId": "3c9d03f8-6b4b-49cf-e935-d0fcea463815"
   },
   "outputs": [
    {
     "data": {
      "text/plain": [
       "Date\n",
       "2020-02-29   -0.114701\n",
       "2020-03-31   -0.069761\n",
       "2020-04-30    0.155374\n",
       "2020-05-31    0.085094\n",
       "2020-06-30    0.147386\n",
       "2020-07-31    0.165132\n",
       "2020-08-31    0.216569\n",
       "2020-09-30   -0.102526\n",
       "2020-10-31   -0.060012\n",
       "2020-11-30    0.095493\n",
       "2020-12-31    0.114574\n",
       "Freq: M, Name: Close, dtype: float64"
      ]
     },
     "execution_count": 159,
     "metadata": {},
     "output_type": "execute_result"
    }
   ],
   "source": [
    "daily_return = last_day.pct_change() #Remove NaN values\n",
    "daily_return.dropna()"
   ]
  },
  {
   "cell_type": "markdown",
   "metadata": {
    "id": "nQH2eBWkNjdC"
   },
   "source": [
    "# DataFrame\n",
    "The **DataFrame** is the most commonly used data structure in Pandas. It is essentially a table, just like an Excel spreadsheet.\n",
    "\n",
    "More precisely, a DataFrame is a collection of Series objects, each of which may contain different data types. A DataFrame can be created from various data types: dictionary, 2-D numpy.ndarray, a Series or another DataFrame.\n",
    "\n",
    "## Create DataFrames\n",
    "The most common method of creating a DataFrame is passing a dictionary:"
   ]
  },
  {
   "cell_type": "code",
   "execution_count": 161,
   "metadata": {
    "colab": {
     "base_uri": "https://localhost:8080/"
    },
    "id": "vd5Wf1ohHW9-",
    "outputId": "6ce3a9d2-4a80-4897-ecd0-c54e3b2f1a7e"
   },
   "outputs": [
    {
     "name": "stdout",
     "output_type": "stream",
     "text": [
      "                 A       B       C\n",
      "2021-07-30  143.50  898.70  155.58\n",
      "2021-07-31  141.79  911.71  153.67\n",
      "2021-08-01  142.73  906.69  155.36\n",
      "2021-08-02  144.78  918.59  152.94\n",
      "2021-08-03  144.64  900.99  153.49\n"
     ]
    }
   ],
   "source": [
    "import pandas as pd\n",
    "\n",
    "dict = {'A': [143.5, 141.79, 142.73, 144.78, 144.64],'B':[898.7, 911.71, 906.69, 918.59, 900.99],\n",
    "        'C':[155.58, 153.67, 155.36, 152.94, 153.49]}\n",
    "data_index = pd.date_range('2021-07-30',periods = 5, freq = 'D') #Ser range and periods for the data\n",
    "df = pd.DataFrame(dict, index = data_index) #Indexation\n",
    "print(df)"
   ]
  },
  {
   "cell_type": "markdown",
   "metadata": {
    "id": "0uYmLQTgOPnX"
   },
   "source": [
    "## Manipulating DataFrames\n",
    "We can fetch values in a DataFrame by columns and index. Each column in a DataFrame is essentially a Pandas Series. We can fetch a column by square brackets: **df['column_name']**\n",
    "\n",
    "If a column name contains no spaces, then we can also use df.column_name to fetch a column:"
   ]
  },
  {
   "cell_type": "code",
   "execution_count": 162,
   "metadata": {
    "colab": {
     "base_uri": "https://localhost:8080/"
    },
    "id": "2pB2f7lBHW9_",
    "outputId": "6b70f1b9-75d0-4cf7-bd33-819b8fd26c0b"
   },
   "outputs": [
    {
     "name": "stdout",
     "output_type": "stream",
     "text": [
      "Date\n",
      "2022-01-24    160.953964\n",
      "2022-01-25    159.121536\n",
      "2022-01-26    159.031921\n",
      "2022-01-27    158.563858\n",
      "2022-01-28    169.628082\n",
      "Name: Close, dtype: float64\n",
      "Date\n",
      "2022-01-24    162294600\n",
      "2022-01-25    115798400\n",
      "2022-01-26    108275300\n",
      "2022-01-27    121954600\n",
      "2022-01-28    179935700\n",
      "Name: Volume, dtype: int64\n"
     ]
    }
   ],
   "source": [
    "df = ex_table\n",
    "print(df.Close.tail(5))\n",
    "print(df['Volume'].tail(5))"
   ]
  },
  {
   "cell_type": "markdown",
   "metadata": {
    "id": "z0ugOel9O4-P"
   },
   "source": [
    "All the methods we applied to a Series index such as iloc[], loc[] and resampling methods, can also be applied to a DataFrame:"
   ]
  },
  {
   "cell_type": "code",
   "execution_count": 163,
   "metadata": {
    "colab": {
     "base_uri": "https://localhost:8080/"
    },
    "id": "_8dfjkedHW9_",
    "outputId": "b543bfc8-1cb6-4aee-b22c-38d795f9ac9e"
   },
   "outputs": [
    {
     "name": "stdout",
     "output_type": "stream",
     "text": [
      "                 Open       High        Low      Close     Volume  Dividends  \\\n",
      "Date                                                                           \n",
      "2016-01-31  21.730610  22.315197  21.629740  22.315197  257666000        0.0   \n",
      "2016-02-29  22.325654  22.641431  22.277250  22.286470  140865200        0.0   \n",
      "2016-03-31  25.289811  25.331300  25.096195  25.121550  103553600        0.0   \n",
      "2016-04-30  21.664136  21.832397  21.323005  21.606512  274126000        0.0   \n",
      "2016-05-31  23.096982  23.282501  22.916103  23.157276  169228800        0.0   \n",
      "2016-06-30  21.900388  22.208810  21.867922  22.169388  143345600        0.0   \n",
      "2016-07-31  24.161388  24.244871  24.043120  24.166025  110934800        0.0   \n",
      "2016-08-31  24.635014  24.847183  24.630350  24.737600  118649600        0.0   \n",
      "2016-09-30  26.220459  26.432630  26.066579  26.358021  145516400        0.0   \n",
      "2016-10-31  26.497912  26.633142  26.392992  26.472265  105677600        0.0   \n",
      "2016-11-30  26.153541  26.294151  25.841854  25.900442  144649200        0.0   \n",
      "2016-12-31  27.337011  27.465903  27.051103  27.142500  122345200        0.0   \n",
      "\n",
      "            Stock Splits  \n",
      "Date                      \n",
      "2016-01-31           0.0  \n",
      "2016-02-29           0.0  \n",
      "2016-03-31           0.0  \n",
      "2016-04-30           0.0  \n",
      "2016-05-31           0.0  \n",
      "2016-06-30           0.0  \n",
      "2016-07-31           0.0  \n",
      "2016-08-31           0.0  \n",
      "2016-09-30           0.0  \n",
      "2016-10-31           0.0  \n",
      "2016-11-30           0.0  \n",
      "2016-12-31           0.0  \n"
     ]
    },
    {
     "name": "stderr",
     "output_type": "stream",
     "text": [
      "/usr/local/lib/python3.7/dist-packages/ipykernel_launcher.py:1: FutureWarning: Indexing a DataFrame with a datetimelike index using a single string to slice the rows, like `frame[string]`, is deprecated and will be removed in a future version. Use `frame.loc[string]` instead.\n",
      "  \"\"\"Entry point for launching an IPython kernel.\n"
     ]
    }
   ],
   "source": [
    "ex_2016 = df['2016']\n",
    "ex_month = ex_2016.resample('M').agg(lambda x: x[-1])\n",
    "print(ex_month)"
   ]
  },
  {
   "cell_type": "markdown",
   "metadata": {
    "id": "CqrbrbFZPTJe"
   },
   "source": [
    "We may select certain columns of a DataFrame using their names:"
   ]
  },
  {
   "cell_type": "code",
   "execution_count": 164,
   "metadata": {
    "colab": {
     "base_uri": "https://localhost:8080/"
    },
    "id": "7bQGeyCAHW9_",
    "outputId": "17765962-92c2-40d1-db6f-f8b265bb9acc"
   },
   "outputs": [
    {
     "name": "stdout",
     "output_type": "stream",
     "text": [
      "                 Open       High        Low      Close\n",
      "Date                                                  \n",
      "2016-01-31  21.730610  22.315197  21.629740  22.315197\n",
      "2016-02-29  22.325654  22.641431  22.277250  22.286470\n",
      "2016-03-31  25.289811  25.331300  25.096195  25.121550\n",
      "2016-04-30  21.664136  21.832397  21.323005  21.606512\n",
      "2016-05-31  23.096982  23.282501  22.916103  23.157276\n",
      "2016-06-30  21.900388  22.208810  21.867922  22.169388\n",
      "2016-07-31  24.161388  24.244871  24.043120  24.166025\n",
      "2016-08-31  24.635014  24.847183  24.630350  24.737600\n",
      "2016-09-30  26.220459  26.432630  26.066579  26.358021\n",
      "2016-10-31  26.497912  26.633142  26.392992  26.472265\n",
      "2016-11-30  26.153541  26.294151  25.841854  25.900442\n",
      "2016-12-31  27.337011  27.465903  27.051103  27.142500\n"
     ]
    }
   ],
   "source": [
    "ex_bar = ex_month[['Open', 'High', 'Low', 'Close']]\n",
    "print(ex_bar)"
   ]
  },
  {
   "cell_type": "markdown",
   "metadata": {
    "id": "8CQaZCAQP68O"
   },
   "source": [
    "We can even specify both rows and columns using loc[]. The row indices and column names are separated by a comma:"
   ]
  },
  {
   "cell_type": "code",
   "execution_count": 165,
   "metadata": {
    "colab": {
     "base_uri": "https://localhost:8080/"
    },
    "id": "YjWWiHVpHW-A",
    "outputId": "7fe62b72-b1ca-48b4-bb38-e6743f340069"
   },
   "outputs": [
    {
     "name": "stdout",
     "output_type": "stream",
     "text": [
      "                 Open       High        Low      Close\n",
      "Date                                                  \n",
      "2016-03-31  25.289811  25.331300  25.096195  25.121550\n",
      "2016-04-30  21.664136  21.832397  21.323005  21.606512\n",
      "2016-05-31  23.096982  23.282501  22.916103  23.157276\n",
      "2016-06-30  21.900388  22.208810  21.867922  22.169388\n"
     ]
    }
   ],
   "source": [
    "print(ex_month.loc['2016-03':'2016-06',['Open', 'High', 'Low', 'Close']])"
   ]
  },
  {
   "cell_type": "markdown",
   "metadata": {
    "id": "Xcn_pHNLQBEH"
   },
   "source": [
    "The subset methods in DataFrame is quite useful. By writing logical statements in square brackets, we can make customized subsets:"
   ]
  },
  {
   "cell_type": "code",
   "execution_count": 167,
   "metadata": {
    "colab": {
     "base_uri": "https://localhost:8080/"
    },
    "id": "RxKg4dObHW-A",
    "outputId": "36e7cbb6-d2d4-463e-f5f5-bc1f41fd4f84"
   },
   "outputs": [
    {
     "name": "stdout",
     "output_type": "stream",
     "text": [
      "                 Open       High        Low      Close\n",
      "Date                                                  \n",
      "2016-03-31  25.289811  25.331300  25.096195  25.121550\n",
      "2016-08-31  24.635014  24.847183  24.630350  24.737600\n",
      "2016-09-30  26.220459  26.432630  26.066579  26.358021\n",
      "2016-10-31  26.497912  26.633142  26.392992  26.472265\n",
      "2016-11-30  26.153541  26.294151  25.841854  25.900442\n",
      "2016-12-31  27.337011  27.465903  27.051103  27.142500\n"
     ]
    }
   ],
   "source": [
    "import numpy as np\n",
    "\n",
    "above = ex_bar[ex_bar.Close > np.mean(ex_bar.Close)] #Organize table using operations\n",
    "print(above)"
   ]
  },
  {
   "cell_type": "markdown",
   "metadata": {
    "id": "wcm_UadkQLL5"
   },
   "source": [
    "## Data Validation\n",
    "As mentioned, all methods that apply to a Series can also be applied to a DataFrame. Here we add a new column to an existing DataFrame:"
   ]
  },
  {
   "cell_type": "code",
   "execution_count": 168,
   "metadata": {
    "colab": {
     "base_uri": "https://localhost:8080/"
    },
    "id": "jZXFdOVFHW-A",
    "outputId": "7b40a809-1e73-40df-f877-d1487c33b621"
   },
   "outputs": [
    {
     "name": "stdout",
     "output_type": "stream",
     "text": [
      "                 Open       High        Low      Close  rate_return\n",
      "Date                                                               \n",
      "2016-01-31  21.730610  22.315197  21.629740  22.315197          NaN\n",
      "2016-02-29  22.325654  22.641431  22.277250  22.286470    -0.001287\n",
      "2016-03-31  25.289811  25.331300  25.096195  25.121550     0.127211\n",
      "2016-04-30  21.664136  21.832397  21.323005  21.606512    -0.139921\n",
      "2016-05-31  23.096982  23.282501  22.916103  23.157276     0.071773\n",
      "2016-06-30  21.900388  22.208810  21.867922  22.169388    -0.042660\n",
      "2016-07-31  24.161388  24.244871  24.043120  24.166025     0.090063\n",
      "2016-08-31  24.635014  24.847183  24.630350  24.737600     0.023652\n",
      "2016-09-30  26.220459  26.432630  26.066579  26.358021     0.065504\n",
      "2016-10-31  26.497912  26.633142  26.392992  26.472265     0.004334\n",
      "2016-11-30  26.153541  26.294151  25.841854  25.900442    -0.021601\n",
      "2016-12-31  27.337011  27.465903  27.051103  27.142500     0.047955\n"
     ]
    },
    {
     "name": "stderr",
     "output_type": "stream",
     "text": [
      "/usr/local/lib/python3.7/dist-packages/ipykernel_launcher.py:1: SettingWithCopyWarning: \n",
      "A value is trying to be set on a copy of a slice from a DataFrame.\n",
      "Try using .loc[row_indexer,col_indexer] = value instead\n",
      "\n",
      "See the caveats in the documentation: https://pandas.pydata.org/pandas-docs/stable/user_guide/indexing.html#returning-a-view-versus-a-copy\n",
      "  \"\"\"Entry point for launching an IPython kernel.\n"
     ]
    }
   ],
   "source": [
    "ex_bar['rate_return'] = ex_bar.Close.pct_change()\n",
    "print(ex_bar)"
   ]
  },
  {
   "cell_type": "markdown",
   "metadata": {
    "id": "_or6n5-LQUa-"
   },
   "source": [
    "Here the calculation introduced a NaN value. If the DataFrame is large, we would not be able to observe it. **isnull()** provides a convenient way to check abnormal values."
   ]
  },
  {
   "cell_type": "code",
   "execution_count": 169,
   "metadata": {
    "colab": {
     "base_uri": "https://localhost:8080/"
    },
    "id": "V5wgmhIPHW-B",
    "outputId": "49291948-ec50-4363-9977-de85b18db649"
   },
   "outputs": [
    {
     "name": "stdout",
     "output_type": "stream",
     "text": [
      "             Open   High    Low  Close  rate_return\n",
      "Date                                               \n",
      "2016-01-31  False  False  False  False         True\n",
      "2016-02-29  False  False  False  False        False\n",
      "2016-03-31  False  False  False  False        False\n",
      "2016-04-30  False  False  False  False        False\n",
      "2016-05-31  False  False  False  False        False\n",
      "2016-06-30  False  False  False  False        False\n",
      "2016-07-31  False  False  False  False        False\n",
      "2016-08-31  False  False  False  False        False\n",
      "2016-09-30  False  False  False  False        False\n",
      "2016-10-31  False  False  False  False        False\n",
      "2016-11-30  False  False  False  False        False\n",
      "2016-12-31  False  False  False  False        False\n",
      "---------------------------------------------\n",
      "         Open   High    Low  Close rate_return\n",
      "count      12     12     12     12          12\n",
      "unique      1      1      1      1           2\n",
      "top     False  False  False  False       False\n",
      "freq       12     12     12     12          11\n"
     ]
    }
   ],
   "source": [
    "missing = ex_bar.isnull()\n",
    "print(missing)\n",
    "print('---------------------------------------------')\n",
    "print(missing.describe())"
   ]
  },
  {
   "cell_type": "markdown",
   "metadata": {
    "id": "d6KFV4i0QfLW"
   },
   "source": [
    "The row labelled \"unique\" indicates the number of unique values in each column. Since the \"rate_return\" column has 2 unique values, it has at least one missing value.\n",
    "\n",
    "We can deduce the number of missing values by comparing \"count\" with \"freq\". There are 12 counts and 11 False values, so there is one True value which corresponds to the missing value.\n",
    "\n",
    "We can also find the rows with missing values easily:"
   ]
  },
  {
   "cell_type": "code",
   "execution_count": 170,
   "metadata": {
    "colab": {
     "base_uri": "https://localhost:8080/"
    },
    "id": "Eo0ZAhCsHW-B",
    "outputId": "bc2194ff-559b-40df-feb2-76b32ecfd3d7"
   },
   "outputs": [
    {
     "name": "stdout",
     "output_type": "stream",
     "text": [
      "             Open   High    Low  Close  rate_return\n",
      "Date                                               \n",
      "2016-01-31  False  False  False  False         True\n"
     ]
    }
   ],
   "source": [
    "print(missing[missing.rate_return == True])"
   ]
  },
  {
   "cell_type": "markdown",
   "metadata": {
    "id": "qgggpD8OQkZX"
   },
   "source": [
    "Usually when dealing with missing data, we either delete the whole row or fill it with some value. As we introduced in the Series chapter, the same method **dropna()** and **fillna()** can be applied to a DataFrame."
   ]
  },
  {
   "cell_type": "code",
   "execution_count": 171,
   "metadata": {
    "colab": {
     "base_uri": "https://localhost:8080/"
    },
    "id": "j8PaIokjHW-B",
    "outputId": "a9edc8e1-9432-4ece-997b-a560d8edd9a0"
   },
   "outputs": [
    {
     "name": "stdout",
     "output_type": "stream",
     "text": [
      "                 Open       High        Low      Close  rate_return\n",
      "Date                                                               \n",
      "2016-02-29  22.325654  22.641431  22.277250  22.286470    -0.001287\n",
      "2016-03-31  25.289811  25.331300  25.096195  25.121550     0.127211\n",
      "2016-04-30  21.664136  21.832397  21.323005  21.606512    -0.139921\n",
      "2016-05-31  23.096982  23.282501  22.916103  23.157276     0.071773\n",
      "2016-06-30  21.900388  22.208810  21.867922  22.169388    -0.042660\n",
      "2016-07-31  24.161388  24.244871  24.043120  24.166025     0.090063\n",
      "2016-08-31  24.635014  24.847183  24.630350  24.737600     0.023652\n",
      "2016-09-30  26.220459  26.432630  26.066579  26.358021     0.065504\n",
      "2016-10-31  26.497912  26.633142  26.392992  26.472265     0.004334\n",
      "2016-11-30  26.153541  26.294151  25.841854  25.900442    -0.021601\n",
      "2016-12-31  27.337011  27.465903  27.051103  27.142500     0.047955\n",
      "\n",
      "--------------------------------------------------\n",
      "\n",
      "                 Open       High        Low      Close  rate_return\n",
      "Date                                                               \n",
      "2016-01-31  21.730610  22.315197  21.629740  22.315197     0.000000\n",
      "2016-02-29  22.325654  22.641431  22.277250  22.286470    -0.001287\n",
      "2016-03-31  25.289811  25.331300  25.096195  25.121550     0.127211\n",
      "2016-04-30  21.664136  21.832397  21.323005  21.606512    -0.139921\n",
      "2016-05-31  23.096982  23.282501  22.916103  23.157276     0.071773\n",
      "2016-06-30  21.900388  22.208810  21.867922  22.169388    -0.042660\n",
      "2016-07-31  24.161388  24.244871  24.043120  24.166025     0.090063\n",
      "2016-08-31  24.635014  24.847183  24.630350  24.737600     0.023652\n",
      "2016-09-30  26.220459  26.432630  26.066579  26.358021     0.065504\n",
      "2016-10-31  26.497912  26.633142  26.392992  26.472265     0.004334\n",
      "2016-11-30  26.153541  26.294151  25.841854  25.900442    -0.021601\n",
      "2016-12-31  27.337011  27.465903  27.051103  27.142500     0.047955\n"
     ]
    }
   ],
   "source": [
    "drop = ex_bar.dropna()\n",
    "print(drop)\n",
    "print('\\n--------------------------------------------------\\n')\n",
    "fill = ex_bar.fillna(0)\n",
    "print(fill)"
   ]
  },
  {
   "cell_type": "markdown",
   "metadata": {
    "id": "0tvoFlKWQxYG"
   },
   "source": [
    "## DataFrame Concat\n",
    "We have seen how to extract a Series from a dataFrame. Now we need to consider how to merge a Series or a DataFrame into another one.\n",
    "\n",
    "In Pandas, the function **concat()** allows us to merge multiple Series into a DataFrame:"
   ]
  },
  {
   "cell_type": "code",
   "execution_count": 106,
   "metadata": {
    "colab": {
     "base_uri": "https://localhost:8080/"
    },
    "id": "uQrmLIWKHW-C",
    "outputId": "88a6ebd1-0c01-4d51-abd5-599a39075709"
   },
   "outputs": [
    {
     "name": "stdout",
     "output_type": "stream",
     "text": [
      "      MAC  ANDROID\n",
      "0  143.50   898.70\n",
      "1  144.09   911.71\n",
      "2  142.73   906.69\n",
      "3  144.18   918.59\n",
      "4  143.77   926.99\n"
     ]
    }
   ],
   "source": [
    "s1 = pd.Series([143.5, 144.09, 142.73, 144.18, 143.77], name = 'MAC')\n",
    "s2 = pd.Series([898.7, 911.71, 906.69, 918.59, 926.99], name = 'ANDROID')\n",
    "data_frame = pd.concat([s1,s2], axis = 1)\n",
    "print(data_frame)"
   ]
  },
  {
   "cell_type": "markdown",
   "metadata": {
    "id": "3ojbNYJLR2vv"
   },
   "source": [
    "The \"axis = 1\" parameter will join two DataFrames by columns:"
   ]
  },
  {
   "cell_type": "code",
   "execution_count": null,
   "metadata": {
    "colab": {
     "base_uri": "https://localhost:8080/"
    },
    "id": "DJsaLd-cRoIm",
    "outputId": "5eecb75d-1d7d-47db-daba-e5fe5b0e009b"
   },
   "outputs": [
    {
     "name": "stdout",
     "output_type": "stream",
     "text": [
      "Date\n",
      "2016-01-31    3.110856\n",
      "2016-02-29    3.109568\n",
      "2016-03-31    3.229314\n",
      "2016-04-30    3.078583\n",
      "2016-05-31    3.147897\n",
      "2016-06-30    3.104301\n",
      "2016-07-31    3.190536\n",
      "2016-08-31    3.213912\n",
      "2016-09-30    3.277361\n",
      "2016-10-31    3.281686\n",
      "2016-11-30    3.259848\n",
      "2016-12-31    3.306689\n",
      "Freq: M, Name: log_price, dtype: float64\n",
      "\n",
      "---------------------- separate line--------------------\n",
      "\n",
      "                 Open       High        Low      Close  rate_return  log_price\n",
      "Date                                                                          \n",
      "2016-01-31  21.852388  22.440250  21.750952  22.440250          NaN   3.110856\n",
      "2016-02-29  22.450761  22.768308  22.402086  22.411358    -0.001288   3.109568\n",
      "2016-03-31  25.431520  25.473242  25.236819  25.262316     0.127210   3.229314\n",
      "2016-04-30  21.785529  21.954734  21.442488  21.727583    -0.139921   3.078583\n",
      "2016-05-31  23.226409  23.412967  23.044516  23.287041     0.071773   3.147897\n",
      "2016-06-30  22.023112  22.333262  21.990464  22.293619    -0.042660   3.104301\n",
      "2016-07-31  24.296780  24.380731  24.177849  24.301443     0.090063   3.190536\n",
      "2016-08-31  24.773054  24.986412  24.768364  24.876215     0.023652   3.213912\n",
      "2016-09-30  26.367388  26.580747  26.212645  26.505720     0.065505   3.277361\n",
      "2016-10-31  26.646396  26.782384  26.540888  26.620605     0.004334   3.281686\n",
      "2016-11-30  26.300094  26.441492  25.986660  26.045576    -0.021601   3.259848\n",
      "2016-12-31  27.490193  27.619807  27.202683  27.294592     0.047955   3.306689\n"
     ]
    }
   ],
   "source": [
    "log_price = np.log(ex_bar.Close)\n",
    "log_price.name = 'log_price'\n",
    "print(log_price)\n",
    "print('\\n---------------------- separate line--------------------\\n')\n",
    "concat = pd.concat([ex_bar, log_price], axis = 1)\n",
    "print(concat)"
   ]
  },
  {
   "cell_type": "markdown",
   "metadata": {
    "id": "mIZz-FUyR_62"
   },
   "source": [
    "We can also join two DataFrames by rows. Consider these two DataFrames:"
   ]
  },
  {
   "cell_type": "code",
   "execution_count": 107,
   "metadata": {
    "colab": {
     "base_uri": "https://localhost:8080/"
    },
    "id": "W7uXZptLHW-C",
    "outputId": "3237e572-21af-47c9-8ab8-a524c039be7e"
   },
   "outputs": [
    {
     "name": "stdout",
     "output_type": "stream",
     "text": [
      "               Volume  Stock Splits\n",
      "Date                               \n",
      "2016-10-31  105677600           0.0\n",
      "2016-11-30  144649200           0.0\n",
      "2016-12-31  122345200           0.0\n",
      "2017-01-31  196804000           0.0\n",
      "2017-02-28   93931600           0.0\n",
      "2017-03-31   78646800           0.0\n",
      "2017-04-30   83441600           0.0\n",
      "\n",
      "---------------------- separate line--------------------\n",
      "\n",
      "                 Open       High        Low      Close\n",
      "Date                                                  \n",
      "2016-10-31  26.497910  26.633140  26.392990  26.472263\n",
      "2016-11-30  26.153536  26.294146  25.841849  25.900436\n",
      "2016-12-31  27.337008  27.465899  27.051099  27.142496\n",
      "2017-01-31  28.391586  28.447830  28.267381  28.438456\n",
      "2017-02-28  32.264068  32.348800  32.174627  32.242886\n",
      "2017-03-31  33.826908  33.956360  33.659796  33.812786\n",
      "2017-04-30  33.913998  33.963427  33.720999  33.810436\n"
     ]
    }
   ],
   "source": [
    "df_volume = ex_table.loc['2016-10':'2017-04',['Volume', 'Stock Splits']].resample('M').agg(lambda x: x[-1])\n",
    "print(df_volume)\n",
    "print('\\n---------------------- separate line--------------------\\n')\n",
    "df_2017 = ex_table.loc['2016-10':'2017-04',['Open', 'High', 'Low', 'Close']].resample('M').agg(lambda x: x[-1])\n",
    "print(df_2017)"
   ]
  },
  {
   "cell_type": "markdown",
   "metadata": {
    "id": "iZk_C9aSSLeP"
   },
   "source": [
    "Now we merge the DataFrames with our DataFrame 'aapl_bar'"
   ]
  },
  {
   "cell_type": "code",
   "execution_count": 108,
   "metadata": {
    "colab": {
     "base_uri": "https://localhost:8080/"
    },
    "id": "aFqmjokOHW-C",
    "outputId": "f936d933-84f1-4fa0-d71f-71684717ed2f"
   },
   "outputs": [
    {
     "name": "stdout",
     "output_type": "stream",
     "text": [
      "                 Open       High        Low      Close  rate_return  \\\n",
      "Date                                                                  \n",
      "2016-01-31  21.730614  22.315201  21.629744  22.315201          NaN   \n",
      "2016-02-29  22.325650  22.641428  22.277247  22.286467    -0.001288   \n",
      "2016-03-31  25.289805  25.331294  25.096189  25.121544     0.127211   \n",
      "2016-04-30  21.664132  21.832393  21.323002  21.606508    -0.139921   \n",
      "2016-05-31  23.096980  23.282499  22.916101  23.157274     0.071773   \n",
      "2016-06-30  21.900390  22.208812  21.867924  22.169390    -0.042660   \n",
      "2016-07-31  24.161392  24.244875  24.043124  24.166029     0.090063   \n",
      "2016-08-31  24.635014  24.847183  24.630350  24.737600     0.023652   \n",
      "2016-09-30  26.220455  26.432626  26.066575  26.358017     0.065504   \n",
      "2016-10-31  26.497910  26.633140  26.392990  26.472263     0.004334   \n",
      "2016-11-30  26.153536  26.294146  25.841849  25.900436    -0.021601   \n",
      "2016-12-31  27.337008  27.465899  27.051099  27.142496     0.047955   \n",
      "2017-01-31        NaN        NaN        NaN        NaN          NaN   \n",
      "2017-02-28        NaN        NaN        NaN        NaN          NaN   \n",
      "2017-03-31        NaN        NaN        NaN        NaN          NaN   \n",
      "2017-04-30        NaN        NaN        NaN        NaN          NaN   \n",
      "\n",
      "                 Volume  Stock Splits  \n",
      "Date                                   \n",
      "2016-01-31          NaN           NaN  \n",
      "2016-02-29          NaN           NaN  \n",
      "2016-03-31          NaN           NaN  \n",
      "2016-04-30          NaN           NaN  \n",
      "2016-05-31          NaN           NaN  \n",
      "2016-06-30          NaN           NaN  \n",
      "2016-07-31          NaN           NaN  \n",
      "2016-08-31          NaN           NaN  \n",
      "2016-09-30          NaN           NaN  \n",
      "2016-10-31  105677600.0           0.0  \n",
      "2016-11-30  144649200.0           0.0  \n",
      "2016-12-31  122345200.0           0.0  \n",
      "2017-01-31  196804000.0           0.0  \n",
      "2017-02-28   93931600.0           0.0  \n",
      "2017-03-31   78646800.0           0.0  \n",
      "2017-04-30   83441600.0           0.0  \n"
     ]
    }
   ],
   "source": [
    "concat = pd.concat([ex_bar, df_volume], axis = 1) #Concatenate a pandas variable in \"axis\"\n",
    "print(concat)"
   ]
  },
  {
   "cell_type": "markdown",
   "metadata": {
    "id": "7yI3tgB4SR4O"
   },
   "source": [
    "By default the DataFrame are joined with all of the data. This default options results in zero information loss. We can also merge them by intersection, this is called 'inner join"
   ]
  },
  {
   "cell_type": "code",
   "execution_count": 112,
   "metadata": {
    "colab": {
     "base_uri": "https://localhost:8080/"
    },
    "id": "31QGLyijHW-C",
    "outputId": "6b18ea35-0344-49be-ba65-bfa8f21e6ba9"
   },
   "outputs": [
    {
     "name": "stdout",
     "output_type": "stream",
     "text": [
      "                 Open       High        Low      Close  rate_return  \\\n",
      "Date                                                                  \n",
      "2016-10-31  26.497910  26.633140  26.392990  26.472263     0.004334   \n",
      "2016-11-30  26.153536  26.294146  25.841849  25.900436    -0.021601   \n",
      "2016-12-31  27.337008  27.465899  27.051099  27.142496     0.047955   \n",
      "\n",
      "               Volume  Stock Splits  \n",
      "Date                                 \n",
      "2016-10-31  105677600           0.0  \n",
      "2016-11-30  144649200           0.0  \n",
      "2016-12-31  122345200           0.0  \n"
     ]
    }
   ],
   "source": [
    "concat = pd.concat([ex_bar,df_volume],axis = 1, join = 'inner') #Concatenate pandas variables by merging them\n",
    "print(concat)"
   ]
  },
  {
   "cell_type": "markdown",
   "metadata": {
    "id": "oudcWMm5Sd0u"
   },
   "source": [
    "Only the intersection part was left if use 'inner join' method. Now let's try to append a DataFrame to another one:"
   ]
  },
  {
   "cell_type": "code",
   "execution_count": 111,
   "metadata": {
    "colab": {
     "base_uri": "https://localhost:8080/"
    },
    "id": "lgw0qaOsHW-D",
    "outputId": "3fb78c58-1d7b-4b7a-9675-4c83b12b9bc7"
   },
   "outputs": [
    {
     "name": "stdout",
     "output_type": "stream",
     "text": [
      "                 Open       High        Low      Close  rate_return     Change\n",
      "Date                                                                          \n",
      "2016-01-31  21.730614  22.315201  21.629744  22.315201          NaN        NaN\n",
      "2016-02-29  22.325650  22.641428  22.277247  22.286467    -0.001288        NaN\n",
      "2016-03-31  25.289805  25.331294  25.096189  25.121544     0.127211        NaN\n",
      "2016-04-30  21.664132  21.832393  21.323002  21.606508    -0.139921        NaN\n",
      "2016-05-31  23.096980  23.282499  22.916101  23.157274     0.071773        NaN\n",
      "2016-06-30  21.900390  22.208812  21.867924  22.169390    -0.042660        NaN\n",
      "2016-07-31  24.161392  24.244875  24.043124  24.166029     0.090063        NaN\n",
      "2016-08-31  24.635014  24.847183  24.630350  24.737600     0.023652        NaN\n",
      "2016-09-30  26.220455  26.432626  26.066575  26.358017     0.065504        NaN\n",
      "2016-10-31  26.497910  26.633140  26.392990  26.472263     0.004334        NaN\n",
      "2016-11-30  26.153536  26.294146  25.841849  25.900436    -0.021601        NaN\n",
      "2016-12-31  27.337008  27.465899  27.051099  27.142496     0.047955        NaN\n",
      "2016-10-31        NaN  26.633140  26.392990  26.472263          NaN  26.497910\n",
      "2016-11-30        NaN  26.294146  25.841849  25.900436          NaN  26.153536\n",
      "2016-12-31        NaN  27.465899  27.051099  27.142496          NaN  27.337008\n",
      "2017-01-31        NaN  28.447830  28.267381  28.438456          NaN  28.391586\n",
      "2017-02-28        NaN  32.348800  32.174627  32.242886          NaN  32.264068\n",
      "2017-03-31        NaN  33.956360  33.659796  33.812786          NaN  33.826908\n",
      "2017-04-30        NaN  33.963427  33.720999  33.810436          NaN  33.913998\n"
     ]
    }
   ],
   "source": [
    "append = ex_bar.append(df_2017) #Normal append but in a pandas series\n",
    "print(append)"
   ]
  },
  {
   "cell_type": "markdown",
   "metadata": {
    "id": "zXT6cMquSq_P"
   },
   "source": [
    "'Append' is essentially to concat two DataFrames by axis = 0, thus here is an alternative way to append:"
   ]
  },
  {
   "cell_type": "code",
   "execution_count": 110,
   "metadata": {
    "colab": {
     "base_uri": "https://localhost:8080/"
    },
    "id": "2EuSaFO9HW-D",
    "outputId": "f9d3b952-736c-461a-9b02-367d6ef7819c"
   },
   "outputs": [
    {
     "name": "stdout",
     "output_type": "stream",
     "text": [
      "                 Open       High        Low      Close  rate_return     Change\n",
      "Date                                                                          \n",
      "2016-01-31  21.730614  22.315201  21.629744  22.315201          NaN        NaN\n",
      "2016-02-29  22.325650  22.641428  22.277247  22.286467    -0.001288        NaN\n",
      "2016-03-31  25.289805  25.331294  25.096189  25.121544     0.127211        NaN\n",
      "2016-04-30  21.664132  21.832393  21.323002  21.606508    -0.139921        NaN\n",
      "2016-05-31  23.096980  23.282499  22.916101  23.157274     0.071773        NaN\n",
      "2016-06-30  21.900390  22.208812  21.867924  22.169390    -0.042660        NaN\n",
      "2016-07-31  24.161392  24.244875  24.043124  24.166029     0.090063        NaN\n",
      "2016-08-31  24.635014  24.847183  24.630350  24.737600     0.023652        NaN\n",
      "2016-09-30  26.220455  26.432626  26.066575  26.358017     0.065504        NaN\n",
      "2016-10-31  26.497910  26.633140  26.392990  26.472263     0.004334        NaN\n",
      "2016-11-30  26.153536  26.294146  25.841849  25.900436    -0.021601        NaN\n",
      "2016-12-31  27.337008  27.465899  27.051099  27.142496     0.047955        NaN\n",
      "2016-10-31        NaN  26.633140  26.392990  26.472263          NaN  26.497910\n",
      "2016-11-30        NaN  26.294146  25.841849  25.900436          NaN  26.153536\n",
      "2016-12-31        NaN  27.465899  27.051099  27.142496          NaN  27.337008\n",
      "2017-01-31        NaN  28.447830  28.267381  28.438456          NaN  28.391586\n",
      "2017-02-28        NaN  32.348800  32.174627  32.242886          NaN  32.264068\n",
      "2017-03-31        NaN  33.956360  33.659796  33.812786          NaN  33.826908\n",
      "2017-04-30        NaN  33.963427  33.720999  33.810436          NaN  33.913998\n"
     ]
    }
   ],
   "source": [
    "concat = pd.concat([ex_bar, df_2017], axis = 0) #Concatenate a pandas variable in \"axis\"\n",
    "print(concat)"
   ]
  },
  {
   "cell_type": "markdown",
   "metadata": {
    "id": "-YXL7V9ASst9"
   },
   "source": [
    "Please note that if the two DataFrame have some columns with the same column names, these columns are considered to be the same and will be merged. It's very important to have the right column names. If we change a column names here:"
   ]
  },
  {
   "cell_type": "code",
   "execution_count": 109,
   "metadata": {
    "colab": {
     "base_uri": "https://localhost:8080/"
    },
    "id": "aT1eoa8mHW-D",
    "outputId": "af52129f-055a-4d8d-83cc-855500825a1f"
   },
   "outputs": [
    {
     "name": "stdout",
     "output_type": "stream",
     "text": [
      "                 Open       High        Low      Close  rate_return     Change\n",
      "Date                                                                          \n",
      "2016-01-31  21.730614  22.315201  21.629744  22.315201          NaN        NaN\n",
      "2016-02-29  22.325650  22.641428  22.277247  22.286467    -0.001288        NaN\n",
      "2016-03-31  25.289805  25.331294  25.096189  25.121544     0.127211        NaN\n",
      "2016-04-30  21.664132  21.832393  21.323002  21.606508    -0.139921        NaN\n",
      "2016-05-31  23.096980  23.282499  22.916101  23.157274     0.071773        NaN\n",
      "2016-06-30  21.900390  22.208812  21.867924  22.169390    -0.042660        NaN\n",
      "2016-07-31  24.161392  24.244875  24.043124  24.166029     0.090063        NaN\n",
      "2016-08-31  24.635014  24.847183  24.630350  24.737600     0.023652        NaN\n",
      "2016-09-30  26.220455  26.432626  26.066575  26.358017     0.065504        NaN\n",
      "2016-10-31  26.497910  26.633140  26.392990  26.472263     0.004334        NaN\n",
      "2016-11-30  26.153536  26.294146  25.841849  25.900436    -0.021601        NaN\n",
      "2016-12-31  27.337008  27.465899  27.051099  27.142496     0.047955        NaN\n",
      "2016-10-31        NaN  26.633140  26.392990  26.472263          NaN  26.497910\n",
      "2016-11-30        NaN  26.294146  25.841849  25.900436          NaN  26.153536\n",
      "2016-12-31        NaN  27.465899  27.051099  27.142496          NaN  27.337008\n",
      "2017-01-31        NaN  28.447830  28.267381  28.438456          NaN  28.391586\n",
      "2017-02-28        NaN  32.348800  32.174627  32.242886          NaN  32.264068\n",
      "2017-03-31        NaN  33.956360  33.659796  33.812786          NaN  33.826908\n",
      "2017-04-30        NaN  33.963427  33.720999  33.810436          NaN  33.913998\n"
     ]
    }
   ],
   "source": [
    "df_2017.columns = ['Change', 'High','Low','Close'] #Separate the columns to make easy to spot the table\n",
    "concat = pd.concat([ex_bar, df_2017], axis = 0)\n",
    "print(concat)"
   ]
  },
  {
   "cell_type": "markdown",
   "metadata": {
    "id": "shbpOFyyS6uV"
   },
   "source": [
    "Since the column name of 'Open' has been changed, the new DataFrame has an new column named 'Change'.\n",
    "\n",
    "# Summary\n",
    "\n",
    "Hereby we introduced the most import part of python: resampling and DataFrame manipulation. We only introduced the most commonly used method in Financial data analysis. There are also many methods used in data mining, which are also beneficial. You can always check the [Pandas](https://pandas.pydata.org/pandas-docs/stable/index.html) official documentations for help."
   ]
  }
 ],
 "metadata": {
  "colab": {
   "collapsed_sections": [],
   "name": "Copia de lab1.ipynb",
   "provenance": []
  },
  "kernelspec": {
   "display_name": "Python 3 (ipykernel)",
   "language": "python",
   "name": "python3"
  },
  "language_info": {
   "codemirror_mode": {
    "name": "ipython",
    "version": 3
   },
   "file_extension": ".py",
   "mimetype": "text/x-python",
   "name": "python",
   "nbconvert_exporter": "python",
   "pygments_lexer": "ipython3",
   "version": "3.8.8"
  }
 },
 "nbformat": 4,
 "nbformat_minor": 1
}
